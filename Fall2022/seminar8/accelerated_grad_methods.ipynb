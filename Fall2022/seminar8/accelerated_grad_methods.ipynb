{
  "nbformat": 4,
  "nbformat_minor": 0,
  "metadata": {
    "colab": {
      "provenance": [],
      "collapsed_sections": []
    },
    "kernelspec": {
      "name": "python3",
      "display_name": "Python 3"
    },
    "language_info": {
      "name": "python"
    }
  },
  "cells": [
    {
      "cell_type": "code",
      "execution_count": 116,
      "metadata": {
        "id": "gMACc1fHZdYY"
      },
      "outputs": [],
      "source": [
        "import numpy as np\n",
        "import matplotlib.pyplot as plt "
      ]
    },
    {
      "cell_type": "code",
      "source": [
        "n = 100\n",
        "A = np.random.randn(n, n)\n",
        "A = A.T @ A"
      ],
      "metadata": {
        "id": "l-F_u2aoZ1v3"
      },
      "execution_count": 117,
      "outputs": []
    },
    {
      "cell_type": "code",
      "source": [
        "np.linalg.cond(A), min(np.linalg.eigvalsh(A))"
      ],
      "metadata": {
        "colab": {
          "base_uri": "https://localhost:8080/"
        },
        "id": "ftjeEEdDbeQ_",
        "outputId": "d47a563a-f8d8-4bd9-f8bd-588254f2b5a9"
      },
      "execution_count": 118,
      "outputs": [
        {
          "output_type": "execute_result",
          "data": {
            "text/plain": [
              "(227198.9447666083, 0.0016413987779758555)"
            ]
          },
          "metadata": {},
          "execution_count": 118
        }
      ]
    },
    {
      "cell_type": "code",
      "source": [
        "b =  np.random.randn(n)"
      ],
      "metadata": {
        "id": "Z5TTNHjEZ6LJ"
      },
      "execution_count": 119,
      "outputs": []
    },
    {
      "cell_type": "code",
      "source": [
        "def f(x):\n",
        "  return 0.5 * x @ A @ x - b @ x\n",
        "\n",
        "def grad(x):\n",
        "  return A @ x - b"
      ],
      "metadata": {
        "id": "29hhWFoQaBWq"
      },
      "execution_count": 120,
      "outputs": []
    },
    {
      "cell_type": "code",
      "source": [
        "def heavy_ball(grad, alpha, beta, x0, num_iter, tol):\n",
        "  conv = [x0.copy()]\n",
        "  x = x0.copy()\n",
        "  for k in range(num_iter):\n",
        "    g = grad(x)\n",
        "    if np.linalg.norm(g) < tol:\n",
        "      break\n",
        "    if k == 0:\n",
        "      x = x - alpha * g\n",
        "    else:\n",
        "      x = x - alpha * g + beta * (x - conv[-2])\n",
        "\n",
        "    conv.append(x.copy())\n",
        "  return x, conv\n",
        "\n",
        "def fgm(grad, alpha, x0, num_iter, tol):\n",
        "  conv = [x0.copy()]\n",
        "  x = x0.copy()\n",
        "  v = x0.copy()\n",
        "  theta = 1.\n",
        "  for k in range(num_iter):\n",
        "    y = (1 - theta) * x + theta * v\n",
        "    g = grad(y)\n",
        "    x = y - alpha * g\n",
        "    v = conv[-1] + 1 / theta * (x - conv[-1])\n",
        "    conv.append(x.copy())\n",
        "    theta = 2 / (k+2)\n",
        "    # theta = 0.5 * (np.sqrt(theta**2 + 4) - 1)\n",
        "    # print(theta)\n",
        "  return x, conv"
      ],
      "metadata": {
        "id": "500BOFmhaGYw"
      },
      "execution_count": 121,
      "outputs": []
    },
    {
      "cell_type": "code",
      "source": [
        "x0 =  np.random.randn(n)\n",
        "num_iter = 10000\n",
        "tol=1e-5\n",
        "beta = 0.9\n",
        "alpha = 1e-3"
      ],
      "metadata": {
        "id": "cKOY2yigaxVR"
      },
      "execution_count": 122,
      "outputs": []
    },
    {
      "cell_type": "code",
      "source": [
        "x_hb, conv_hb = heavy_ball(grad, alpha, beta, x0, num_iter, tol)\n",
        "x_fgm, conv_fgm = fgm(grad, alpha, x0, num_iter, tol)"
      ],
      "metadata": {
        "id": "dJdLvlywa5g2"
      },
      "execution_count": 123,
      "outputs": []
    },
    {
      "cell_type": "code",
      "source": [
        "plt.plot([np.linalg.norm(grad(x)) for x in conv_hb], label=\"HB\")\n",
        "plt.plot([np.linalg.norm(grad(x)) for x in conv_fgm], label=\"FGM\")\n",
        "plt.yscale(\"log\")\n",
        "plt.legend()"
      ],
      "metadata": {
        "colab": {
          "base_uri": "https://localhost:8080/",
          "height": 283
        },
        "id": "TkCe01YFa9Mp",
        "outputId": "adeaee64-569a-4e79-8593-443aece938ef"
      },
      "execution_count": 124,
      "outputs": [
        {
          "output_type": "execute_result",
          "data": {
            "text/plain": [
              "<matplotlib.legend.Legend at 0x7f51404b30d0>"
            ]
          },
          "metadata": {},
          "execution_count": 124
        },
        {
          "output_type": "display_data",
          "data": {
            "text/plain": [
              "<Figure size 432x288 with 1 Axes>"
            ],
            "image/png": "[encoded data removed]"
          },
          "metadata": {
            "needs_background": "light"
          }
        }
      ]
    },
    {
      "cell_type": "code",
      "source": [
        "plt.plot([f(x) - f(x_fgm) for x in conv_hb])\n",
        "plt.plot([f(x) - f(x_fgm) for x in conv_fgm])\n",
        "plt.yscale(\"log\")"
      ],
      "metadata": {
        "colab": {
          "base_uri": "https://localhost:8080/",
          "height": 265
        },
        "id": "nw_hI-5ebF2O",
        "outputId": "307af21a-e0c0-4a44-fe9b-749b5bb368bf"
      },
      "execution_count": 125,
      "outputs": [
        {
          "output_type": "display_data",
          "data": {
            "text/plain": [
              "<Figure size 432x288 with 1 Axes>"
            ],
            "image/png": "[encoded data removed]"
          },
          "metadata": {
            "needs_background": "light"
          }
        }
      ]
    },
    {
      "cell_type": "code",
      "source": [],
      "metadata": {
        "id": "8oNJyya6b1OF"
      },
      "execution_count": null,
      "outputs": []
    }
  ]
}