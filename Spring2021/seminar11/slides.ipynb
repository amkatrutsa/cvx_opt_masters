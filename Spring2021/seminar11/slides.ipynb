{
 "cells": [
  {
   "cell_type": "markdown",
   "metadata": {
    "slideshow": {
     "slide_type": "slide"
    }
   },
   "source": [
    "# Методы внутренней точки"
   ]
  },
  {
   "cell_type": "markdown",
   "metadata": {
    "slideshow": {
     "slide_type": "slide"
    }
   },
   "source": [
    "## Задача выпуклой оптимизации с ограничениями типа равенств\n",
    "\n",
    "\\begin{equation*}\n",
    "\\begin{split}\n",
    "&\\min f(x) \\\\ \n",
    "\\text{s.t. } & Ax = b,\n",
    "\\end{split}\n",
    "\\end{equation*}\n",
    "\n",
    "где $f$ - выпукла и дважды дифференцируема, $A \\in \\mathbb{R}^{p \\times n}$ и $\\mathrm{rank} \\; A = p < n$"
   ]
  },
  {
   "cell_type": "markdown",
   "metadata": {
    "slideshow": {
     "slide_type": "slide"
    }
   },
   "source": [
    "### Двойственная задача\n",
    "Двойственная функция \n",
    "\n",
    "\\begin{equation*}\n",
    "\\begin{split}\n",
    "g(\\mu) &  = -b^{\\top}\\mu + \\inf_x(f(x) + \\mu^{\\top}Ax) \\\\\n",
    "& = -b^{\\top}\\mu - \\sup_x((-A^{\\top}\\mu)^{\\top}x -f(x)) \\\\\n",
    "& = -b^{\\top}\\mu - f^*(-A^{\\top}\\mu)\n",
    "\\end{split}\n",
    "\\end{equation*}\n",
    "\n",
    "Двойственная задача\n",
    "\n",
    "$$\n",
    "\\max_\\mu -b^{\\top}\\mu - f^*(-A^{\\top}\\mu)\n",
    "$$\n",
    "\n",
    "**Подход 1**: найти сопряжённую функцию и решить безусловную задачу оптимизации"
   ]
  },
  {
   "cell_type": "markdown",
   "metadata": {
    "slideshow": {
     "slide_type": "slide"
    }
   },
   "source": [
    "**Трудности**\n",
    "- не всегда легко восстановить решение прямой задачи по решению двойственной\n",
    "- сопряжённая функция $f^*$ должна быть дважды дифференцируемое для быстрого решения двойственной задачи. Это не всегда так."
   ]
  },
  {
   "cell_type": "markdown",
   "metadata": {
    "slideshow": {
     "slide_type": "slide"
    }
   },
   "source": [
    "### Условия оптимальности\n",
    "\n",
    "- $Ax^* = b$\n",
    "- $f'(x^*) + A^{\\top}\\mu^* = 0$\n",
    "\n",
    "или\n",
    "\n",
    "$$ \\begin{bmatrix} f' & A^{\\top} \\\\ A & 0 \\end{bmatrix} \\begin{bmatrix} x^{\\\\*} \\\\ \\mu^{\\\\*} \\end{bmatrix} = \\begin{bmatrix} 0 \\\\ b \\end{bmatrix} $$\n",
    "\n",
    "**Подход 2**: решить нелинейную в общем случае систему методом Ньютона.\n",
    "\n",
    "**Вопрос**: в каком случае система окажется линейной?"
   ]
  },
  {
   "cell_type": "markdown",
   "metadata": {
    "slideshow": {
     "slide_type": "slide"
    }
   },
   "source": [
    "## Метод Ньютона для выпуклых задач с ограничениями типа равенств\n",
    "\n",
    "\\begin{equation*}\n",
    "\\begin{split}\n",
    "& \\min_v f(x) + f'(x)^{\\top}v + \\frac{1}{2}v^{\\top}f''(x)v\\\\\n",
    "\\text{s.t. } & A(x + v) = b\n",
    "\\end{split}\n",
    "\\end{equation*}\n",
    "\n",
    "Из условий оптимальности имеем\n",
    "\n",
    "$$ \\begin{bmatrix} f''(x) & A^{\\top} \\\\ A & 0 \\end{bmatrix} \\begin{bmatrix} v \\\\ w \\end{bmatrix} = \\begin{bmatrix} -f'(x) \\\\ 0 \\end{bmatrix} $$\n",
    "\n",
    "**Шаг метода Ньютона определён только для невырожденной матрицы!**"
   ]
  },
  {
   "cell_type": "markdown",
   "metadata": {
    "slideshow": {
     "slide_type": "slide"
    }
   },
   "source": [
    "**Упражнение**. Посчитайте за сколько итераций метод Ньютона сойдётся для квадратичной функции с ограничениями типа равенств."
   ]
  },
  {
   "cell_type": "markdown",
   "metadata": {
    "slideshow": {
     "slide_type": "slide"
    }
   },
   "source": [
    "### Линеаризация условий оптимальности\n",
    "\n",
    "- $A(x + v) = b \\rightarrow Av = 0$\n",
    "- $f'(x + v) + A^{\\top}w \\approx f'(x) + f''(x)v + A^{\\top}w = 0$\n",
    "\n",
    "или\n",
    "\n",
    "- $f''(x)v + A^{\\top}w = -f'(x)$"
   ]
  },
  {
   "cell_type": "markdown",
   "metadata": {
    "slideshow": {
     "slide_type": "slide"
    }
   },
   "source": [
    "### Псевдокод\n",
    "\n",
    "**Важно:** начальная точка должна лежать в допустимом множестве!\n",
    "\n",
    "```python\n",
    "def NewtonEqualityFeasible(f, gradf, hessf, A, b, stop_crit, line_search, x0, tol):\n",
    "    \n",
    "    x = x0\n",
    "    \n",
    "    n = x.shape[0]\n",
    "    \n",
    "    while True:\n",
    "        \n",
    "        newton_matrix = [[hessf(x), A.T], [A, 0]]\n",
    "        \n",
    "        rhs = [-gradf(x), 0]\n",
    "        \n",
    "        w = solve_lin_sys(newton_matrix, rhs)\n",
    "        \n",
    "        h = w[:n]\n",
    "        \n",
    "        if stop_crit(x, h, gradf(x), **kwargs) < tol:\n",
    "            \n",
    "            break\n",
    "            \n",
    "        alpha = line_search(x, h, f, gradf(x), **kwargs)\n",
    "        \n",
    "        x = x + alpha * h\n",
    "        \n",
    "    return x\n",
    "```"
   ]
  },
  {
   "cell_type": "markdown",
   "metadata": {
    "slideshow": {
     "slide_type": "slide"
    }
   },
   "source": [
    "### Критерий остановки\n",
    "Получим выражение для значения\n",
    "\n",
    "$$\n",
    "f(x) - \\inf_v(\\hat{f}(x + v) \\; | \\; A(x+v) = b),\n",
    "$$\n",
    "\n",
    "где $\\hat{f}$ - квадратичная аппроксимация функции $f$.\n",
    "\n",
    "Для этого \n",
    "\n",
    "$$\n",
    "\\langle h^{\\top} \\rvert \\cdot \\quad f''(x)h + A^{\\top}w = -f'(x)\n",
    "$$\n",
    "\n",
    "с учётом $Ah = 0$ получаем \n",
    "\n",
    "$$\n",
    "h^{\\top}f''(x)h = -f'(x)^{\\top}h\n",
    "$$\n",
    "\n",
    "Тогда \n",
    "\n",
    "$$\n",
    "\\inf_v(\\hat{f}(x + v) \\; | \\; A(x+v) = b) = f(x) - \\frac{1}{2}h^{\\top}f''(x)h\n",
    "$$\n",
    "\n",
    "**Вывод:** величина $h^{\\top}f''(x)h$ является наиболее адекватным критерием остановки метода Ньютона."
   ]
  },
  {
   "cell_type": "markdown",
   "metadata": {
    "slideshow": {
     "slide_type": "slide"
    }
   },
   "source": [
    "### Теорема сходимости\n",
    "\n",
    "Сходимость метода аналогична сходимости метода Ньютона для задачи безусловной оптимизации.\n",
    "\n",
    "**Теорема**\n",
    "Пусть выполнены следующие условия\n",
    "- множество уровней $S = \\{ x \\; | \\; x \\in D(f), \\; f(x) \\leq f(x_0), \\; Ax = b \\}$ замкнуто и $x_0 \\in D(f), \\; Ax_0 = b$\n",
    "-  для любых $x \\in S$ и $\\tilde{x} \\in S$ гессиан $f''(x)$ липшицев\n",
    "- на множестве $S$ $\\|f''(x)\\|_2 \\leq M $ и норма обратной матрицы KKT системы ограничена сверху\n",
    "\n",
    "Тогда, метод Ньютона сходится к паре $(x^*, \\mu^*)$ линейно, а при достижении достаточной близости к решению - квадратично."
   ]
  },
  {
   "cell_type": "markdown",
   "metadata": {
    "slideshow": {
     "slide_type": "slide"
    }
   },
   "source": [
    "## Случай недопустимой начальной точки\n",
    "\n",
    "- Метод Ньютона требует чтобы начальная точка лежала в допустимом множестве\n",
    "- Что делать, если поиск такой точки неочевиден: например, если область определения $f$ не сопадает с $\\mathbb{R}^n$\n",
    "- Пусть начальная точка не является допустимой, в этом случае условия KKT можно записать так\n",
    "\n",
    "$$\n",
    "\\begin{bmatrix}\n",
    "f''(x) & A^{\\top}\\\\\n",
    "A & 0\n",
    "\\end{bmatrix}\n",
    "\\begin{bmatrix}\n",
    "v\\\\\n",
    "w\n",
    "\\end{bmatrix}\n",
    " = -\n",
    "\\begin{bmatrix}\n",
    "f'(x)\\\\\n",
    "{\\color{red}{Ax - b}}\n",
    "\\end{bmatrix}\n",
    "$$\n",
    "\n",
    "- Если $x$ допустима, то система совпадает с системой для обычного метода Ньютона"
   ]
  },
  {
   "cell_type": "markdown",
   "metadata": {
    "slideshow": {
     "slide_type": "slide"
    }
   },
   "source": [
    "### Прямо-двойственная интерпретация\n",
    "\n",
    "- Метод *прямо-двойственный*, если на каждой итерации обновляются прямые и двойственные переменные\n",
    "- Покажем, что это значит. Для этого запишем условия оптимальности в виде\n",
    "\n",
    "$$\n",
    "r(x^*, \\mu^*) = (r_p(x^*, \\mu^*), r_d(x^*, \\mu^*)) = 0,\n",
    "$$\n",
    "\n",
    "где $r_p(x, \\mu) = Ax - b$ и $r_d(x, \\mu) = f'(x) + A^{\\top}\\mu$\n",
    "- Решим систему методом Ньютона:\n",
    "\n",
    "$$\n",
    "r(y + z) \\approx r(y) + Dr(y)z = 0\n",
    "$$\n"
   ]
  },
  {
   "cell_type": "markdown",
   "metadata": {
    "slideshow": {
     "slide_type": "slide"
    }
   },
   "source": [
    "- Прямо-двойственный шаг в методе Ньютона определим как решение линейной системы\n",
    "\n",
    "$$\n",
    "Dr(y)z = -r(y)\n",
    "$$\n",
    "\n",
    "или более подробно\n",
    "\n",
    "$$\n",
    "\\begin{bmatrix}\n",
    "f''(x) & A^{\\top}\\\\\n",
    "A & 0\n",
    "\\end{bmatrix}\n",
    "\\begin{bmatrix}\n",
    "z_p\\\\\n",
    "z_d\n",
    "\\end{bmatrix}\n",
    " = -\n",
    "\\begin{bmatrix}\n",
    "r_p(x, \\mu)\\\\\n",
    "r_d(x, \\mu)\n",
    "\\end{bmatrix}\n",
    "= - \n",
    "\\begin{bmatrix}\n",
    "f'(x) + A^{\\top}\\mu\\\\\n",
    "Ax - b\n",
    "\\end{bmatrix}\n",
    "$$\n",
    "\n",
    "- Заменим $z_d^+ = \\mu + z_d$ и получим\n",
    "\n",
    "$$\n",
    "\\begin{bmatrix}\n",
    "f''(x) & A^{\\top}\\\\\n",
    "A & 0\n",
    "\\end{bmatrix}\n",
    "\\begin{bmatrix}\n",
    "z_p\\\\\n",
    "z_d^+\n",
    "\\end{bmatrix}\n",
    "= - \n",
    "\\begin{bmatrix}\n",
    "f'(x)\\\\\n",
    "Ax - b\n",
    "\\end{bmatrix}\n",
    "$$\n",
    "\n",
    "- Система полностью эквивалентна ранее полученной в обозначениях \n",
    "\n",
    "$$\n",
    "v = z_p \\qquad w = z_d^+ = \\mu + z_d \n",
    "$$\n",
    "\n",
    "- Метод Ньютона даёт шаг для прямой переменной и обновлённое значение для двойственной"
   ]
  },
  {
   "cell_type": "markdown",
   "metadata": {
    "slideshow": {
     "slide_type": "slide"
    }
   },
   "source": [
    "### Способ инициализации\n",
    "\n",
    "- Удобный способ задания начального приближения: найти точку из области определения $f$ гораздо проще, чем из пересечения области определения и допустимого множества\n",
    "- Метод Ньютона с недопустимой начальной точкой не может определить согласованность ограничений"
   ]
  },
  {
   "cell_type": "markdown",
   "metadata": {
    "slideshow": {
     "slide_type": "slide"
    }
   },
   "source": [
    "### Псевдокод\n",
    "\n",
    "```python\n",
    "def NewtonEqualityInfeasible(f, gradf, hessf, A, b, stop_crit, line_search, x0, mu0, tol):\n",
    "    \n",
    "    x = x0\n",
    "    \n",
    "    mu = mu0\n",
    "    \n",
    "    n = x.shape[0]\n",
    "    \n",
    "    while True:\n",
    "        \n",
    "        z_p, z_d = ComputeNewtonStep(hessf(x), A, b)\n",
    "        \n",
    "        if stop_crit(x, z_p, z_d, gradf(x), **kwargs) < tol:\n",
    "            \n",
    "            break\n",
    "            \n",
    "        alpha = line_search(x, z_p, z_d, f, gradf(x), **kwargs)\n",
    "        \n",
    "        x = x + alpha * z_p\n",
    "        \n",
    "        mu = z_d\n",
    "        \n",
    "    return x\n",
    "```"
   ]
  },
  {
   "cell_type": "markdown",
   "metadata": {
    "slideshow": {
     "slide_type": "slide"
    }
   },
   "source": [
    "### Критерий остановки и линейный поиск\n",
    "\n",
    "- Изменение $r_p$ после шага $z_p$\n",
    "\n",
    "$$\n",
    "A(x + \\alpha z_p) - b = [A(x + z_p) = b] = Ax + \\alpha(b - Ax) - b = (1 - \\alpha)(Ax - b)\n",
    "$$\n",
    "\n",
    "- Итоговое изменение после $k$ шагов\n",
    "\n",
    "$$\n",
    "r^{(k)} = \\prod_{i=0}^{k-1}(1 - \\alpha^{(i)})r^{(0)}\n",
    "$$\n",
    "\n",
    "- Критерий остановки: $Ax = b$ и $\\|r(x, \\mu)\\|_2 \\leq \\varepsilon$"
   ]
  },
  {
   "cell_type": "markdown",
   "metadata": {
    "slideshow": {
     "slide_type": "slide"
    }
   },
   "source": [
    "- Линейный поиск: $c \\in (0, 1/2)$, $\\beta = (0, 1)$\n",
    "\n",
    "```python\n",
    "def linesearch(r, x, mu, z_p, z_d, c, beta):\n",
    "    \n",
    "    alpha = 1\n",
    "    \n",
    "    while np.linalg.norm(r(x + alpha * z_p, mu + alpha * z_d)) >= (1 - c * alpha) * np.linalg.norm(r(x, mu)):\n",
    "        \n",
    "        alpha *= beta\n",
    "        \n",
    "    return alpha\n",
    "\n",
    "```"
   ]
  },
  {
   "cell_type": "markdown",
   "metadata": {
    "slideshow": {
     "slide_type": "slide"
    }
   },
   "source": [
    "### Теорема сходимости\n",
    "\n",
    "Результат аналогичен результаты для допустимой начальной точки\n",
    "\n",
    "**Теорема.** Пусть\n",
    "- множество подуровней $S = \\{(x, \\mu) \\; | \\; x \\in D(f), \\; \\| r(x, \\mu) \\|_2 \\leq \\| r(x_0, \\mu_0)  \\|_2 \\}$ замкнуто\n",
    "- на множестве $S$ норма матрицы обратной к ККТ матрице ограничена\n",
    "- гессиан липшицев на $S$.\n",
    "\n",
    "Тогда сходимость метода линейна при удалении от решении и квадратичная при достаточном приближении к решению."
   ]
  },
  {
   "cell_type": "markdown",
   "metadata": {
    "slideshow": {
     "slide_type": "slide"
    }
   },
   "source": [
    "## Общая задача выпуклой оптимизации\n",
    "\n",
    "\\begin{equation*}\n",
    "\\begin{split}\n",
    "& \\min_{x \\in \\mathbb{R}^n} f_0(x)\\\\\n",
    "\\text{s.t. } & f_i (x) \\leq 0 \\qquad i=1,\\ldots,m\\\\\n",
    "& Ax = b,\n",
    "\\end{split}\n",
    "\\end{equation*}\n",
    "\n",
    "где $f_i$ - выпуклые и дважды непрерывно дифференцируемы, $A \\in \\mathbb{R}^{p \\times n}$ и $\\mathrm{rank} \\; A = p < n$. \n",
    "\n",
    "Предполагаем, что задача строго разрешима, то есть выполняется условие Слейтера."
   ]
  },
  {
   "cell_type": "markdown",
   "metadata": {
    "slideshow": {
     "slide_type": "slide"
    }
   },
   "source": [
    "## Условия оптимальности\n",
    "\n",
    "- Разрешимость прямой задачи\n",
    "\n",
    "$$\n",
    "Ax^* = b, \\; f_i(x^*) \\leq 0, \\; i = 1,\\ldots,m\n",
    "$$\n",
    "\n",
    "- Разрешимость двойственной задачи\n",
    "\n",
    "$$\n",
    "\\lambda^* \\geq 0\n",
    "$$\n",
    "\n",
    "- Стационарность лагранжиана\n",
    "\n",
    "$$\n",
    "f'_0(x^*) + \\sum_{i=1}^m \\lambda^*_if'_i(x^*) + A^{\\top}\\mu^* = 0\n",
    "$$\n",
    "\n",
    "- Условие дополняющей нежёсткости\n",
    "\n",
    "$$\n",
    "\\lambda^*_i f_i(x^*) = 0, \\qquad i = 1,\\ldots, m\n",
    "$$"
   ]
  },
  {
   "cell_type": "markdown",
   "metadata": {
    "slideshow": {
     "slide_type": "slide"
    }
   },
   "source": [
    "## Идея\n",
    "\n",
    "- Свести задачу с ограничениями типа **неравенств** к последовательности задач с ограничениями типа **равенств**\n",
    "- Использовать методы для решения задачи с ограничениями типа равенств"
   ]
  },
  {
   "cell_type": "markdown",
   "metadata": {
    "slideshow": {
     "slide_type": "slide"
    }
   },
   "source": [
    "\\begin{equation*}\n",
    "\\begin{split}\n",
    "& \\min f_0(x) + \\sum_{i=1}^m I_-(f_i(x))\\\\\n",
    "\\text{s.t. } & Ax = b,\n",
    "\\end{split}\n",
    "\\end{equation*}\n",
    "\n",
    "где $I_-$ - индикаторная функция\n",
    "\n",
    "$$\n",
    "I_-(u) = \n",
    "\\begin{cases}\n",
    "0, & u \\leq 0\\\\\n",
    "\\infty, & u > 0\n",
    "\\end{cases}\n",
    "$$\n",
    "\n",
    "**Проблема.** Теперь целевая функция - **недифференцируема**."
   ]
  },
  {
   "cell_type": "markdown",
   "metadata": {
    "slideshow": {
     "slide_type": "slide"
    }
   },
   "source": [
    "## Логарифмический барьер\n",
    "\n",
    "**Идея.** Приблизить функцию $I_-(u)$ функцией\n",
    "\n",
    "$$\n",
    "\\hat{I}_-(u) = -t\\log(-u),\n",
    "$$\n",
    "\n",
    "где $t > 0$ - параметр.\n",
    "\n",
    "- Функции $I_-(u)$ и $\\hat{I}_-(u)$ выпуклые и неубывающие\n",
    "- Однако $\\hat{I}_-(u)$ **дифференцируема** и приближается к $I_-(u)$ при $t \\to 0$"
   ]
  },
  {
   "cell_type": "code",
   "execution_count": 18,
   "metadata": {
    "slideshow": {
     "slide_type": "slide"
    }
   },
   "outputs": [
    {
     "data": {
      "text/plain": [
       "Text(0.5, 0, 'u')"
      ]
     },
     "execution_count": 18,
     "metadata": {},
     "output_type": "execute_result"
    },
    {
     "data": {
      "image/png": "[encoded data removed]",
      "text/plain": [
       "<Figure size 720x432 with 1 Axes>"
      ]
     },
     "metadata": {},
     "output_type": "display_data"
    }
   ],
   "source": [
    "%matplotlib inline\n",
    "import matplotlib.pyplot as plt\n",
    "import numpy as np\n",
    "\n",
    "x = np.linspace(-2, 0, 100000, endpoint=False)\n",
    "plt.figure(figsize=(10, 6))\n",
    "for t in [0.1, 0.5, 1, 1.5, 2]:\n",
    "    plt.plot(x, -t * np.log(-x), label=r\"$t = \" + str(t) + \"$\")\n",
    "plt.legend(fontsize=20)\n",
    "plt.xticks(fontsize=20)\n",
    "plt.yticks(fontsize=20)\n",
    "plt.xlabel(\"u\", fontsize=20)"
   ]
  },
  {
   "cell_type": "markdown",
   "metadata": {
    "slideshow": {
     "slide_type": "slide"
    }
   },
   "source": [
    "### \"Ограниченная\" задача\n",
    "\n",
    "\\begin{equation*}\n",
    "\\begin{split}\n",
    "& \\min f_0(x) + \\sum_{i=1}^m -t \\log(-f_i(x))\\\\\n",
    "\\text{s.t. } & Ax = b\n",
    "\\end{split}\n",
    "\\end{equation*}\n",
    "\n",
    "- Задача по-прежнему **выпуклая**\n",
    "- Функция \n",
    "\n",
    "$$\n",
    "\\phi(x) = -\\sum\\limits_{i=1}^m \\log(-f_i(x))\n",
    "$$ \n",
    "называется *логарифмическим барьером*. Её область определения - множество точек, для котороых ограничения типа неравенств выполняются строго.\n",
    "\n",
    "**Упражнение.** Найдите градиент и гессиан $\\phi(x)$"
   ]
  },
  {
   "cell_type": "markdown",
   "metadata": {
    "slideshow": {
     "slide_type": "slide"
    }
   },
   "source": [
    "## Центральный путь\n",
    "\n",
    "Для каждого $t > 0$ \"ограниченная\" задача имеет единственное решение $x^*(t)$.\n",
    "\n",
    "**Определение.** Последовательность $x^*(t)$ для $t > 0$ образует *центральный путь*."
   ]
  },
  {
   "cell_type": "markdown",
   "metadata": {
    "slideshow": {
     "slide_type": "slide"
    }
   },
   "source": [
    "## Условия оптимальности для \"ограниченной\" задачи\n",
    "\n",
    "- Разрешимость прямой задачи\n",
    "\n",
    "$$\n",
    "Ax^*(t) = b, \\; f_i(x^*) < 0, \\; i = 1,\\ldots,m\n",
    "$$\n",
    "\n",
    "- Стационарность лагранжиана\n",
    "\n",
    "\\begin{equation*}\n",
    "\\begin{split}\n",
    "& f'_0(x^*(t)) + \\phi'(x^*(t)) + A^{\\top}\\hat{\\mu} = \\\\\n",
    "& = f'_0(x^*(t)) - t\\sum_{i=1}^m \\frac{f_i'(x^*(t))}{f_i(x^*(t))} + A^{\\top}\\hat{\\mu} = 0\n",
    "\\end{split}\n",
    "\\end{equation*}"
   ]
  },
  {
   "cell_type": "markdown",
   "metadata": {
    "slideshow": {
     "slide_type": "slide"
    }
   },
   "source": [
    "- Обозначим \n",
    "\n",
    "$$\n",
    "\\lambda^*_i(t) = -\\frac{t}{f_i(x^*(t))} \\; i=1,\\ldots,m \\text{ и } \\mu^* = \\hat{\\mu}\n",
    "$$\n",
    "\n",
    "- Тогда условие оптимальности можно записать как\n",
    "\n",
    "$$\n",
    "f'_0(x^*(t)) + \\sum_{i=1}^m \\lambda^*_i(t)f_i'(x^*(t)) + A^{\\top}\\mu^* = 0\n",
    "$$\n",
    "\n",
    "- Тогда $x^*(t)$ минимизирует лагранжиан \n",
    "\n",
    "$$\n",
    "L = f_0(x) + \\sum_{i=1}^m \\lambda_if_i(x) + \\mu^{\\top}(Ax - b)\n",
    "$$\n",
    "\n",
    "для $\\lambda = \\lambda^*(t)$ и $\\mu = \\mu^*$."
   ]
  },
  {
   "cell_type": "markdown",
   "metadata": {
    "slideshow": {
     "slide_type": "slide"
    }
   },
   "source": [
    "### Зазор двойственности\n",
    "\n",
    "- Двойственная функция $g(\\lambda^*(t), \\mu^*)$ конечна и представима в виде\n",
    "\n",
    "\\begin{equation*}\n",
    "\\begin{split}\n",
    "g(\\lambda^*(t), \\mu^*) & = f_0(x^*(t)) + \\sum_{i=1}^m \\lambda^*_i(t)f_i(x^*(t)) + (\\mu^*)^{\\top}(Ax^*(t) - b)\\\\\n",
    "& = f_0(x^*(t)) - mt\n",
    "\\end{split}\n",
    "\\end{equation*}\n",
    "\n",
    "- Зазор двойственности\n",
    "\n",
    "$$\n",
    "f_0(x^*(t)) - p^* \\leq mt\n",
    "$$\n",
    "\n",
    "- При $t \\to 0$ зазор двойственности равен 0 и центральный путь сходится к решению исходной задачи."
   ]
  },
  {
   "cell_type": "markdown",
   "metadata": {
    "slideshow": {
     "slide_type": "slide"
    }
   },
   "source": [
    "## ККТ интерпретация\n",
    "\n",
    "Условия оптимальности для \"ограниченной\" задачи эквивалентны условиям оптимальности для исходной задачи если\n",
    "\n",
    "$$\n",
    "-\\lambda_i f_i(x) = 0 \\to - \\lambda_i f_i(x) = t \\quad i = 1,\\ldots, m\n",
    "$$"
   ]
  },
  {
   "cell_type": "markdown",
   "metadata": {
    "slideshow": {
     "slide_type": "slide"
    }
   },
   "source": [
    "## Физическая интерпретация\n",
    "- Предположим, что ограничений типа равенства нет\n",
    "- Рассмотрим неквантовую частицу в поле сил\n",
    "- Каждому ограничению $f_i(x) \\leq 0$ поставим в соответствие силу\n",
    "$$\n",
    "F_i(x) = -\\nabla(-\\log(-f_i(x))) = \\frac{f'_i(x)}{f_i(x)}\n",
    "$$\n",
    "- Целевой функции также поставим в соответствие силу \n",
    "$$\n",
    "F_0(x) = -\\frac{f'_0(x)}{t}\n",
    "$$\n",
    "- Каждая точка из центрального пути $x^*(t)$ - это положение частицы, в котором выполняется баланс сил ограничений и целевой функции\n",
    "- С уменьшением $t$ сила для целевой функции доминирует, и частица стремится занять положение, расположенное ближе к оптимальному\n",
    "- Поскольку сила ограничений стремится к бесконечности при приближении частицы к границе, частица никогда не вылетит из допустимого множества"
   ]
  },
  {
   "cell_type": "markdown",
   "metadata": {
    "slideshow": {
     "slide_type": "slide"
    }
   },
   "source": [
    "## Барьерный метод\n",
    "\n",
    "- $x_0$ должна быть допустимой\n",
    "- $t_0 > 0$ - начальное значение параметра\n",
    "- $\\alpha \\in (0, 1)$ - множитель для уменьшения $t_0$\n",
    "\n",
    "```python\n",
    "def BarrierMethod(f, x0, t0, tol, alpha, **kwargs):\n",
    "    \n",
    "    x = x0\n",
    "    \n",
    "    t = t0\n",
    "    \n",
    "    while True:\n",
    "        \n",
    "        x = SolveBarrierProblem(f, t, x, **kwargs)\n",
    "        \n",
    "        if m * t < tol:\n",
    "            \n",
    "            break\n",
    "            \n",
    "        t *= alpha\n",
    "        \n",
    "    return x\n",
    "\n",
    "```"
   ]
  },
  {
   "cell_type": "markdown",
   "metadata": {
    "slideshow": {
     "slide_type": "slide"
    }
   },
   "source": [
    "### Точность решения \"ограниченной\" задачи\n",
    "\n",
    "- Точное решение \"ограниченной\" задачи не требуется, так как приближённый центральный путь всё равно сойдётся к решению исходной задачи\n",
    "- Двойственные переменные перестают быть двойственными при неточном решении, но это поправимо введением поправочных слагаемых\n",
    "- Разница в стоимости точного и неточного центрального пути - несколько итераций метода Ньютона, поэтому существенного ускорения добиться нельзя"
   ]
  },
  {
   "cell_type": "markdown",
   "metadata": {
    "slideshow": {
     "slide_type": "slide"
    }
   },
   "source": [
    "### Выбор параметров\n",
    "- Множитель $\\alpha$\n",
    "    - При $\\alpha \\sim 1$, **мало** итераций нужно для решения \"ограниченной\" задачи, но **много** для нахождения точного решения исходной задачи\n",
    "    - При $\\alpha \\sim 10^{-5}$ **много** итераций нужно для решения \"ограниченной\" задачи, но **мало** для нахождения точного решения исходной задачи\n",
    "- Начальный параметр $t_0$\n",
    "    - Аналогичная альтернатива как и для параметра $\\alpha$\n",
    "    - Параметр $t_0$ задаёт начальную точку для центрального пути"
   ]
  },
  {
   "cell_type": "markdown",
   "metadata": {
    "slideshow": {
     "slide_type": "slide"
    }
   },
   "source": [
    "### Почти теорема сходимости\n",
    "\n",
    "- Как было показано выше при $t \\to 0$ барьерный метод сходится к решению исходной задачи\n",
    "- Скорость сходимости напрямую связана с параметрами $\\alpha$ и $t_0$, как показано ранее\n",
    "- Основная сложность - быстрое решение вспомогательных задач методом Ньютона"
   ]
  },
  {
   "cell_type": "markdown",
   "metadata": {
    "slideshow": {
     "slide_type": "slide"
    }
   },
   "source": [
    "## Задача поиска допустимого начального приближения\n",
    "\n",
    "- Барьерный метод требует допустимого начального приближения\n",
    "- Метод разбивается на две фазы\n",
    "    - Первая фаза метода ищет допустимое начальное приближение\n",
    "    - Вторая фаза использует найденное начальное приближение для запуска барьерного метода"
   ]
  },
  {
   "cell_type": "markdown",
   "metadata": {
    "slideshow": {
     "slide_type": "slide"
    }
   },
   "source": [
    "### Первая фаза метода\n",
    "\n",
    "Простой поиск допустимой точки\n",
    "\n",
    "\\begin{equation*}\n",
    "\\begin{split}\n",
    "& \\min s\\\\\n",
    "\\text{s.t. } & f_i(x) \\leq s\\\\\n",
    "& Ax = b\n",
    "\\end{split}\n",
    "\\end{equation*}\n",
    "\n",
    "- эта задача всегда имеет строго допустимое начальное приближение\n",
    "- если $s^* < 0$, то $x^*$ строго допустима и может быть использована в барьерном методе\n",
    "- если $s^* > 0$, то задача не разрешима и допустимое множество пусто"
   ]
  },
  {
   "cell_type": "markdown",
   "metadata": {
    "slideshow": {
     "slide_type": "slide"
    }
   },
   "source": [
    "### Сумма несогласованностей\n",
    "\n",
    "\\begin{equation*}\n",
    "\\begin{split}\n",
    "& \\min s_1 + \\ldots + s_m\\\\\n",
    "\\text{s.t. } & f_i(x) \\leq s_i\\\\\n",
    "& Ax = b\\\\\n",
    "& s \\geq 0\n",
    "\\end{split}\n",
    "\\end{equation*}\n",
    "\n",
    "- оптимальное значене равно нулю и достигается тогда и только тогда когда система ограничений совместна\n",
    "- если задача неразрешима, то можно определить какие ограничения к этому приводят, то есть какие $s_i > 0$ "
   ]
  },
  {
   "cell_type": "markdown",
   "metadata": {
    "slideshow": {
     "slide_type": "slide"
    }
   },
   "source": [
    "### Вторая фаза метода\n",
    "\n",
    "- После получения допустимой начальной точки $x_0$ выполняется обычный метод Ньютона для задачи с ограничениями равенствами"
   ]
  },
  {
   "cell_type": "markdown",
   "metadata": {
    "slideshow": {
     "slide_type": "slide"
    }
   },
   "source": [
    "## Прямо-двойственный метод\n",
    "\n",
    "Похож на барьерный метод, но\n",
    "- нет разделения на внешние итерации и внутренние: на каждой итерации обновляются прямые и двойственные переменные\n",
    "- направление определяется методом Ньютона, применённого к модифицированной системе ККТ\n",
    "- последовательность точек в прямо-двойственном методе не обязательно допустимы \n",
    "- работает даже когда задача не строго допустима"
   ]
  },
  {
   "cell_type": "markdown",
   "metadata": {
    "slideshow": {
     "slide_type": "slide"
    }
   },
   "source": [
    "### Сходимость для квадратичной целевой функции\n",
    "\n",
    "При некоторых предположениях о начальной точке и начальном значении $\\mu$, можно показать, что для достижения $\\mu_k \\leq \\varepsilon$ потребуется \n",
    "\n",
    "$$\n",
    "\\mathcal{O}\\left(\\sqrt{n}\\log \\left( \\frac{1}{\\varepsilon}\\right)\\right)\n",
    "$$ \n",
    "итераций\n",
    "\n",
    "\n",
    "Доказательство и все детали можно найти [тут](https://epubs.siam.org/doi/book/10.1137/1.9781611971453?mobileUi=0) или [тут](https://www.maths.ed.ac.uk/~gondzio/reports/ipmXXV.pdf)\n",
    "\n",
    "- Сравните с методами типа градиентного спуска, которые дают сходимость типа $\\mathcal{O}\\left( \\frac{1}{\\varepsilon} \\right)$\n",
    "- Зависит от размерности как $\\sqrt{n}$\n",
    "- На практике зависимость от размерности ещё слабее"
   ]
  },
  {
   "cell_type": "markdown",
   "metadata": {
    "slideshow": {
     "slide_type": "slide"
    }
   },
   "source": [
    "## Резюме\n",
    "\n",
    "- Метод Ньютона для выпуклой задачи с оганичениями типа равенств\n",
    "- Случай недопустимой начальной точки\n",
    "- Прямой барьерный метод\n",
    "- Прямо-двойственный метод"
   ]
  },
  {
   "cell_type": "markdown",
   "metadata": {
    "slideshow": {
     "slide_type": "slide"
    }
   },
   "source": [
    "## Применение методов внутренней точки к задаче линейного программирования\n",
    "\n",
    "Исходная задача\n",
    "\\begin{align*}\n",
    "&\\min_x c^{\\top}x \\\\\n",
    "\\text{s.t. } & Ax = b\\\\\n",
    "& x_i \\geq 0, \\; i = 1,\\dots, n\n",
    "\\end{align*}\n",
    "\n",
    "Аппроксимированная задача\n",
    "\\begin{align*}\n",
    "&\\min_x c^{\\top}x {\\color{red}{- \\mu \\sum\\limits_{i=1}^n \\ln x_i}} \\\\\n",
    "\\text{s.t. } & Ax = b\\\\\n",
    "\\end{align*}\n",
    "для некоторого $\\mu > 0$"
   ]
  },
  {
   "cell_type": "markdown",
   "metadata": {
    "slideshow": {
     "slide_type": "slide"
    }
   },
   "source": [
    "### Барьерная функция\n",
    "\n",
    "**Определение.** Функция $B(x, \\mu) = -\\mu\\ln x$ называется *барьерной* для задачи с ограничением $x \\geq 0$.\n",
    "\n",
    "Более подробно о таких функциях будет рассказано в контексте нелинейной условной оптимизации..."
   ]
  },
  {
   "cell_type": "markdown",
   "metadata": {
    "slideshow": {
     "slide_type": "slide"
    }
   },
   "source": [
    "### Что произошло?\n",
    "\n",
    "- Сделали из линейной задачу нелинейную\n",
    "- Перенесли ограничение типа неравенства в целевую функцию\n",
    "- Ввели дополнительный параметр $\\mu$"
   ]
  },
  {
   "cell_type": "markdown",
   "metadata": {
    "slideshow": {
     "slide_type": "slide"
    }
   },
   "source": [
    "### Почему это хорошо?\n",
    "\n",
    "Переход к задаче с ограничениями типа равенств $\\to$ упрощение условий оптимальности, в частности\n",
    "\n",
    "- Исключено требование дополняющей нежёсткости\n",
    "- Исключено условие неотрицательности множителя Лагранжа для ограничения типа неравенства"
   ]
  },
  {
   "cell_type": "markdown",
   "metadata": {
    "slideshow": {
     "slide_type": "slide"
    }
   },
   "source": [
    "### Условия оптимальности\n",
    "\n",
    "- Лагранжиан: $L = c^{\\top}x - \\mu\\sum\\limits_{i=1}^n \\ln x_i + \\lambda^{\\top}(Ax - b)$\n",
    "- Стационарная точка $L$: \n",
    "\n",
    "$$\n",
    "c - \\mu X^{-1}e + A^{\\top}\\lambda = 0,\n",
    "$$\n",
    "\n",
    "где $X = \\mathrm{diag}(x_1, \\dots, x_n)$ и $e = [1, \\dots, 1]$\n",
    "- Ограничение типа равенства: $Ax = b$"
   ]
  },
  {
   "cell_type": "markdown",
   "metadata": {
    "slideshow": {
     "slide_type": "fragment"
    }
   },
   "source": [
    "Пусть $s = \\mu X^{-1}e$, тогда условия оптимальности можно переписать так:\n",
    "- $A^{\\top}\\lambda + c - s = 0 $\n",
    "- $Xs = {\\color{red}{\\mu e}}$\n",
    "- $Ax = b$\n",
    "\n",
    "Также $x > 0 \\Rightarrow s > 0$ "
   ]
  },
  {
   "cell_type": "markdown",
   "metadata": {
    "slideshow": {
     "slide_type": "slide"
    }
   },
   "source": [
    "## Сравнение с условиями оптимальности для исходной задачи\n",
    "\n",
    "- Лагранжиан: $L = c^{\\top}x + \\lambda^{\\top}(Ax - b) - s^{\\top}x$\n",
    "- Условие стационарности: $c + A^{\\top}\\lambda - s = 0$\n",
    "- Допустимость прямой задачи: $Ax = b, \\; x \\geq 0$\n",
    "- Допустимость двойственной: $s \\geq 0$\n",
    "- Условие дополняющей нежёсткости: $s_ix_i = 0$"
   ]
  },
  {
   "cell_type": "markdown",
   "metadata": {
    "slideshow": {
     "slide_type": "slide"
    }
   },
   "source": [
    "### После упрощения\n",
    "\n",
    "- $A^{\\top}\\lambda + c - s = 0$\n",
    "- $Ax = b$\n",
    "- $Xs = {\\color{red}{0}}$\n",
    "- $x \\geq 0, \\; s \\geq 0$"
   ]
  },
  {
   "cell_type": "markdown",
   "metadata": {
    "slideshow": {
     "slide_type": "slide"
    }
   },
   "source": [
    "### Вывод\n",
    "\n",
    "- Введение барьерной функции c множителем $\\mu$ эквивалентно релаксации условий дополняющей нежёсткости на параметр $\\mu$\n",
    "- При $\\mu \\to 0$ решения задач совпадают!\n",
    "- Итеративное решение задачи с барьерной функцией вместе с уменьшением $\\mu$. Последовательность решений сойдётся к вершине симплекса по траектории из точек, лежащих внутри симплекса."
   ]
  },
  {
   "cell_type": "markdown",
   "metadata": {
    "slideshow": {
     "slide_type": "slide"
    }
   },
   "source": [
    "### Общая схема\n",
    "```python\n",
    "def GeneralInteriorPointLP(c, A, b, x0, mu0, rho, tol):\n",
    "    \n",
    "    x = x0\n",
    "    \n",
    "    mu = mu0\n",
    "    \n",
    "    e = np.ones(c.shape[0])\n",
    "    \n",
    "    while True:\n",
    "        \n",
    "        primal_var, dual_var = StepInsideFeasibleSet(c, A, b, x, mu)\n",
    "        \n",
    "        mu *= rho\n",
    "        \n",
    "        if converge(primal_var, dual_var, c, A, b, tol) and mu < tol:\n",
    "            \n",
    "            break\n",
    "            \n",
    "    return x\n",
    "```"
   ]
  },
  {
   "cell_type": "markdown",
   "metadata": {
    "slideshow": {
     "slide_type": "slide"
    }
   },
   "source": [
    "## Как решать задачу с барьерной функцией?\n",
    "\n",
    "- Прямой метод \n",
    "- Прямо-двойственный метод"
   ]
  },
  {
   "cell_type": "markdown",
   "metadata": {
    "slideshow": {
     "slide_type": "slide"
    }
   },
   "source": [
    "## Прямой метод\n",
    "\n",
    "Вспомним исходную задачу:\n",
    "\\begin{align*}\n",
    "&\\min_x c^{\\top}x - \\mu \\sum\\limits_{i=1}^n \\ln x_i \\\\\n",
    "\\text{s.t. } & Ax = b\\\\\n",
    "\\end{align*}\n",
    "\n",
    "Идея: приблизим целевую функцию до второго порядка, как в методе Ньютона."
   ]
  },
  {
   "cell_type": "markdown",
   "metadata": {
    "slideshow": {
     "slide_type": "slide"
    }
   },
   "source": [
    "### Реализация\n",
    "На $(k+1)$-ой итерации необходимо решить следующую задачу: \n",
    "\n",
    "\\begin{align*}\n",
    "&\\min_p \\frac{1}{2}p^{\\top}Hp + g^{\\top}p\\\\\n",
    "\\text{s.t. } & A(x_k + p) = b,\\\\\n",
    "\\end{align*}\n",
    "\n",
    "где $H = \\mu X^{-2}$ - гессиан, и $g = c - \\mu X^{-1}e$ - градиент."
   ]
  },
  {
   "cell_type": "markdown",
   "metadata": {
    "slideshow": {
     "slide_type": "slide"
    }
   },
   "source": [
    "### Снова KKT\n",
    "\n",
    "Выпишем условия ККТ для этой задачи\n",
    "- $Hp + g + A^{\\top}\\lambda = 0$\n",
    "- $Ap = 0$\n",
    "\n",
    "или\n",
    "$$\\begin{bmatrix} H & A^{\\top}\\\\ A & 0 \\end{bmatrix} \\begin{bmatrix} p\\\\ \\lambda \\end{bmatrix} = \\begin{bmatrix} -g \\\\ 0 \\end{bmatrix}$$"
   ]
  },
  {
   "cell_type": "markdown",
   "metadata": {
    "slideshow": {
     "slide_type": "fragment"
    }
   },
   "source": [
    "Из первой строки:\n",
    "\n",
    "$$\n",
    "-\\mu X^{-2}p + A^{\\top}\\lambda = c - \\mu X^{-1}e\n",
    "$$\n",
    "\n",
    "$$\n",
    "-\\mu Ap + AX^{2}A^{\\top}\\lambda = AX^2c - \\mu AXe\n",
    "$$\n",
    "\n",
    "$$\n",
    "AX^{2}A^{\\top}\\lambda = AX^2c - \\mu AXe\n",
    "$$\n",
    "\n",
    "Так как $X \\in \\mathbb{S}^n_{++}$ и $A$ полного ранга, то уравнение имеет единственное решение $\\lambda^*$."
   ]
  },
  {
   "cell_type": "markdown",
   "metadata": {
    "slideshow": {
     "slide_type": "slide"
    }
   },
   "source": [
    "### Найдём направление $p$\n",
    "\n",
    "$$\n",
    "-\\mu p + X^2A^{\\top}\\lambda^* = X^2c - \\mu Xe = X^2c - \\mu x\n",
    "$$\n",
    "\n",
    "$$\n",
    "p = x + \\frac{1}{\\mu}X^2(A^{\\top}\\lambda^* - c)\n",
    "$$"
   ]
  },
  {
   "cell_type": "markdown",
   "metadata": {
    "slideshow": {
     "slide_type": "slide"
    }
   },
   "source": [
    "### Способы решения системы из ККТ\n",
    "\n",
    "1. Прямой способ: формирование матрицы $(n + m) \\times (n + m)$ и явное решение системы - $\\frac{1}{3}(n + m)^3$\n",
    "2. Последовательное исключение переменных:\n",
    "    - $Hp + A^{\\top}\\lambda = -g$, $p = -H^{-1}(g + A^{\\top}\\lambda)$\n",
    "    - $Ap = -AH^{-1}(g + A^{\\top}\\lambda) = -AH^{-1}A^{\\top}\\lambda - AH^{-1}g = 0$\n",
    "    \n",
    "    Здесь матрица $-AH^{-1}A^{\\top}$ есть *дополнение по Шуру* матрицы $H$.\n",
    "3. Алгоритм вычисления решения при последовательном исключении переменных\n",
    "    - Вычислить $H^{-1}g$ и $H^{-1}A^{\\top}$ - $f_H + (m+1)s_H$ операций\n",
    "    - Вычислить дополнение по Шуру $-AH^{-1}A^{\\top}$ - $\\mathcal{O}(m^2n)$\n",
    "    - Найти $\\lambda$ - $\\frac{1}{3}m^3$ операций\n",
    "    - Найти $p$ - $s_H + \\mathcal{O}(mn)$ операций\n",
    "4. Итого: $f_H + ms_H + \\frac{m^3}{3} + \\mathcal{O}(m^2n)$ уже гораздо быстрее прямого способа"
   ]
  },
  {
   "cell_type": "markdown",
   "metadata": {
    "slideshow": {
     "slide_type": "slide"
    }
   },
   "source": [
    "### Используем структуру матрицы $H$\n",
    "\n",
    "- В нашем случае $H = \\mu X^{-2}$ - диагональная матрица!\n",
    "- $f_H$ - $n$ операций\n",
    "- $s_H$ - $n$ операций\n",
    "- Итоговая сложность $\\frac{m^3}{3} + \\mathcal{O}(m^2n)$ операций, где $m \\ll n$"
   ]
  },
  {
   "cell_type": "markdown",
   "metadata": {
    "slideshow": {
     "slide_type": "slide"
    }
   },
   "source": [
    "### Поиск шага $\\alpha$\n",
    "\n",
    "- Обычный линейный поиск с условиями достаточного убывания\n",
    "- Условие $A(x_k + \\alpha p) = b$ выполняется автоматически"
   ]
  },
  {
   "cell_type": "markdown",
   "metadata": {
    "slideshow": {
     "slide_type": "slide"
    }
   },
   "source": [
    "### Псевдокод прямого барьерного метода\n",
    "\n",
    "```python\n",
    "def PrimalBarrierLP(c, A, b, x0, mu0, rho, tol):\n",
    "    \n",
    "    x = x0\n",
    "    \n",
    "    mu = mu0\n",
    "    \n",
    "    e = np.ones(x.shape[0])\n",
    "    \n",
    "    while True:\n",
    "        \n",
    "        p, lam = ComputeNewtonDirection(c, x, A, mu)\n",
    "        \n",
    "        alpha = line_search(p, mu, c, x)\n",
    "        \n",
    "        x = x + alpha * p\n",
    "        \n",
    "        mu = rho * mu\n",
    "        \n",
    "        if mu < tol and np.linalg.norm(x.dot(c - A.T.dot(lam)) - mu * e) < tol:\n",
    "            \n",
    "            break\n",
    "            \n",
    "    return x\n",
    "```"
   ]
  },
  {
   "cell_type": "markdown",
   "metadata": {
    "slideshow": {
     "slide_type": "slide"
    }
   },
   "source": [
    "## Сравнение барьерного метода и прямого метода внутренней точки\n",
    "\n",
    "- Пример Klee-Minty \n",
    "\\begin{align*}\n",
    "& \\max_{x \\in \\mathbb{R}^n} 2^{n-1}x_1 + 2^{n-2}x_2 + \\dots + 2x_{n-1} + x_n\\\\\n",
    "\\text{s.t. } & x_1 \\leq 5\\\\\n",
    "& 4x_1 + x_2 \\leq 25\\\\\n",
    "& 8x_1 + 4x_2 + x_3 \\leq 125\\\\\n",
    "& \\ldots\\\\\n",
    "& 2^n x_1 + 2^{n-1}x_2 + 2^{n-2}x_3 + \\ldots + x_n \\leq 5^n\\\\\n",
    "& x \\geq 0\n",
    "\\end{align*}\n",
    "- Какая сложность работы симплекс метода?"
   ]
  },
  {
   "cell_type": "markdown",
   "metadata": {
    "slideshow": {
     "slide_type": "slide"
    }
   },
   "source": [
    "- Сведение к стандартной форме\n",
    "\n",
    "\\begin{align*}\n",
    "& \\min_{x, \\; z} -c^{\\top}x \\\\\n",
    "\\text{s.t. } & Ax + z = b\\\\\n",
    "& x \\geq 0, \\quad z \\geq 0\n",
    "\\end{align*}\n",
    "\n",
    "- Сравним скорость работы прямого барьерного метода и симплекс-метода"
   ]
  },
  {
   "cell_type": "code",
   "execution_count": 19,
   "metadata": {
    "slideshow": {
     "slide_type": "slide"
    }
   },
   "outputs": [],
   "source": [
    "import numpy as np\n",
    "%matplotlib inline\n",
    "import matplotlib.pyplot as plt\n",
    "import scipy.optimize as scopt\n",
    "import scipy.linalg as sclin"
   ]
  },
  {
   "cell_type": "code",
   "execution_count": 20,
   "metadata": {
    "slideshow": {
     "slide_type": "slide"
    }
   },
   "outputs": [],
   "source": [
    "def NewtonLinConstraintsFeasible(f, gradf, hessf, A, x0, line_search, linsys_solver, args=(), \n",
    "                                 disp=False, disp_conv=False, callback=None, tol=1e-6, max_iter=100, **kwargs):\n",
    "    x = x0.copy()\n",
    "    n = x0.shape[0]\n",
    "    iteration = 0\n",
    "    lam = np.random.randn(A.shape[0])\n",
    "    while True:\n",
    "        gradient, hess = gradf(x, *args), hessf(x, *args)\n",
    "        h = linsys_solver(hess, A, gradient)\n",
    "        descent_dir = h[:n]\n",
    "        decrement = descent_dir.dot(hessf(x, *args).dot(descent_dir))\n",
    "        if decrement < tol:\n",
    "            if disp_conv:\n",
    "                print(\"Tolerance achieved! Decrement = {}\".format(decrement))\n",
    "            break\n",
    "        alpha = line_search(x, descent_dir, f, gradf, args, **kwargs)\n",
    "        if alpha < 1e-16:\n",
    "            if disp_conv:\n",
    "                print(\"Step is too small!\")\n",
    "        x = x + alpha * descent_dir\n",
    "        if callback is not None:\n",
    "            callback((descent_dir, x))\n",
    "        iteration += 1\n",
    "        if disp:\n",
    "            print(\"Current function val = {}\".format(f(x, *args)))\n",
    "            print(\"Newton decrement = {}\".format(decrement))\n",
    "        if iteration >= max_iter:\n",
    "            if disp_conv:\n",
    "                print(\"Maxiter exceeds!\")\n",
    "            break\n",
    "    res = {\"x\": x, \"num_iter\": iteration, \"tol\": decrement}\n",
    "    return res"
   ]
  },
  {
   "cell_type": "code",
   "execution_count": 21,
   "metadata": {
    "slideshow": {
     "slide_type": "slide"
    }
   },
   "outputs": [],
   "source": [
    "def simple_solver(hess, A, gradient):\n",
    "    n = hess.shape[0]\n",
    "    n_lin_row, n_lin_col = A.shape\n",
    "    modified_hess = np.zeros((n + n_lin_row, n + n_lin_row))\n",
    "    modified_hess[:n, :n] = hess\n",
    "    modified_hess[n:n + n_lin_row, :n_lin_col] = A\n",
    "    modified_hess[:n_lin_col, n:n + n_lin_row] = A.T\n",
    "    rhs = np.zeros(n + n_lin_row)\n",
    "    rhs[:n] = -gradient\n",
    "    h = np.linalg.solve(modified_hess, rhs)\n",
    "    return h\n",
    "\n",
    "def elimination_solver(hess, A, gradient):\n",
    "    inv_hess_diag = np.divide(1.0, np.diag(hess))\n",
    "    inv_hess_grad = np.multiply(-inv_hess_diag, gradient)\n",
    "    rhs = A.dot(inv_hess_grad)\n",
    "    L_inv_hess = np.sqrt(inv_hess_diag)\n",
    "    AL_inv_hess = A * L_inv_hess\n",
    "    # print(AL_inv_hess.shape)\n",
    "    S = AL_inv_hess.dot(AL_inv_hess.T)\n",
    "#     cho_S = sclin.cho_factor(S)\n",
    "#     w = sclin.cho_solve(cho_S, rhs)\n",
    "    w = np.linalg.solve(S, rhs)\n",
    "    v = np.subtract(inv_hess_grad, np.multiply(inv_hess_diag, A.T.dot(w)))\n",
    "#     h = np.zeros(hess.shape[1] + A.shape[0])\n",
    "#     h[:hess.shape[1]] = v\n",
    "#     h[hess.shape[1]:hess.shape[1] + A.shape[0]] = w\n",
    "    return v"
   ]
  },
  {
   "cell_type": "code",
   "execution_count": 23,
   "metadata": {
    "slideshow": {
     "slide_type": "slide"
    }
   },
   "outputs": [],
   "source": [
    "def backtracking(x, descent_dir, f, grad_f, args, **kwargs):\n",
    "    beta1 = kwargs[\"beta1\"]\n",
    "    rho = kwargs[\"rho\"]\n",
    "    alpha = 1\n",
    "    while f(x + alpha * descent_dir, *args) >= f(x, *args) + beta1 * alpha * grad_f(x, *args).dot(descent_dir) \\\n",
    "            or np.isnan(f(x + alpha * descent_dir, *args)):\n",
    "        alpha *= rho\n",
    "        if alpha < 1e-16:\n",
    "            break\n",
    "    return alpha"
   ]
  },
  {
   "cell_type": "code",
   "execution_count": 24,
   "metadata": {
    "slideshow": {
     "slide_type": "slide"
    }
   },
   "outputs": [],
   "source": [
    "def generate_KleeMinty_test_problem(n):\n",
    "    c = np.array([2**i for i in range(n)])\n",
    "    c = -c[::-1]\n",
    "    bounds = [(0, None) for i in range(n)]\n",
    "    b = np.array([5**(i+1) for i in range(n)])\n",
    "    a = np.array([1] + [2**(i+1) for i in range(1, n)])\n",
    "    A = np.zeros((n, n))\n",
    "    for i in range(n):\n",
    "        A[i:, i] = a[:n-i]\n",
    "    return c, A, b, bounds"
   ]
  },
  {
   "cell_type": "code",
   "execution_count": 26,
   "metadata": {
    "slideshow": {
     "slide_type": "slide"
    }
   },
   "outputs": [],
   "source": [
    "n = 7\n",
    "c, A, b, _ = generate_KleeMinty_test_problem(n)\n",
    "eps = 1e-10\n",
    "def f(x, c, mu):\n",
    "    n = c.shape[0]\n",
    "    return c.dot(x[:n]) - mu * np.sum(np.log(eps + x))\n",
    "\n",
    "def gradf(x, c, mu):\n",
    "    grad = np.zeros(len(x))\n",
    "    n = c.shape[0]\n",
    "    grad[:n] = c - mu / (eps + x[:n])\n",
    "    grad[n:] = -mu / (eps + x[n:])\n",
    "    return grad\n",
    "\n",
    "def hessf(x, c, mu):\n",
    "    return mu * np.diag(1. / (eps + x)**2)\n",
    "\n",
    "A_lin = np.zeros((n, n + A.shape[0]))\n",
    "A_lin[:n, :n] = A\n",
    "A_lin[:n, n:n + A.shape[0]] = np.eye(A.shape[0])\n",
    "mu = 0.1"
   ]
  },
  {
   "cell_type": "markdown",
   "metadata": {
    "slideshow": {
     "slide_type": "slide"
    }
   },
   "source": [
    "#### Проверим верно ли вычисляется градиент"
   ]
  },
  {
   "cell_type": "code",
   "execution_count": 27,
   "metadata": {
    "slideshow": {
     "slide_type": "fragment"
    }
   },
   "outputs": [
    {
     "data": {
      "text/plain": [
       "8.217611069205944e-07"
      ]
     },
     "execution_count": 27,
     "metadata": {},
     "output_type": "execute_result"
    }
   ],
   "source": [
    "scopt.check_grad(f, gradf, np.random.rand(n), c, mu)"
   ]
  },
  {
   "cell_type": "markdown",
   "metadata": {
    "slideshow": {
     "slide_type": "slide"
    }
   },
   "source": [
    "### Выбор начального приближения допустимого по ограничениям и области определения целевой функции"
   ]
  },
  {
   "cell_type": "code",
   "execution_count": 28,
   "metadata": {
    "slideshow": {
     "slide_type": "fragment"
    }
   },
   "outputs": [
    {
     "name": "stdout",
     "output_type": "stream",
     "text": [
      "0.0\n",
      "0\n"
     ]
    }
   ],
   "source": [
    "x0 = np.zeros(2*n)\n",
    "x0[:n] = np.random.rand(n)\n",
    "x0[n:2*n] = b - A.dot(x0[:n])\n",
    "print(np.linalg.norm(A_lin.dot(x0) - b))\n",
    "print(np.sum(x0 <= 1e-6))"
   ]
  },
  {
   "cell_type": "markdown",
   "metadata": {
    "slideshow": {
     "slide_type": "slide"
    }
   },
   "source": [
    "### Проверим сходимость"
   ]
  },
  {
   "cell_type": "code",
   "execution_count": 29,
   "metadata": {
    "slideshow": {
     "slide_type": "fragment"
    }
   },
   "outputs": [
    {
     "name": "stderr",
     "output_type": "stream",
     "text": [
      "/Users/alex/anaconda3/envs/cvxpy/lib/python3.6/site-packages/ipykernel_launcher.py:6: RuntimeWarning: invalid value encountered in log\n",
      "  \n"
     ]
    },
    {
     "name": "stdout",
     "output_type": "stream",
     "text": [
      "Decrement value = 2.1302367667877004e-08\n"
     ]
    },
    {
     "data": {
      "image/png": "[encoded data removed]",
      "text/plain": [
       "<Figure size 864x360 with 2 Axes>"
      ]
     },
     "metadata": {},
     "output_type": "display_data"
    }
   ],
   "source": [
    "hist_conv = []\n",
    "def cl(x):\n",
    "    hist_conv.append(x)\n",
    "res = NewtonLinConstraintsFeasible(f, gradf, hessf, A_lin, x0, backtracking, elimination_solver, (c, mu), callback=cl,\n",
    "                           max_iter=2000, beta1=0.1, rho=0.7)\n",
    "print(\"Decrement value = {}\".format(res[\"tol\"]))\n",
    "fstar = f(res[\"x\"], c, mu)\n",
    "hist_conv_f = [np.abs(fstar - f(descdir_x[1], c, mu)) for descdir_x in hist_conv]\n",
    "plt.figure(figsize=(12, 5))\n",
    "plt.subplot(1,2,1)\n",
    "plt.semilogy(hist_conv_f)\n",
    "plt.xlabel(\"Number of iteration, $k$\", fontsize=18)\n",
    "plt.ylabel(\"$f^* - f_k$\", fontsize=18)\n",
    "plt.xticks(fontsize=18)\n",
    "_ = plt.yticks(fontsize=18)\n",
    "\n",
    "hist_conv_x = [np.linalg.norm(res[\"x\"] - x[1]) for x in hist_conv]\n",
    "plt.subplot(1,2,2)\n",
    "plt.semilogy(hist_conv_x)\n",
    "plt.xlabel(\"Number of iteration, $k$\", fontsize=18)\n",
    "plt.ylabel(\"$\\| x_k - x^*\\|_2$\", fontsize=18)\n",
    "plt.xticks(fontsize=18)\n",
    "_ = plt.yticks(fontsize=18)\n",
    "plt.tight_layout()"
   ]
  },
  {
   "cell_type": "markdown",
   "metadata": {
    "slideshow": {
     "slide_type": "slide"
    }
   },
   "source": [
    "### Реализация барьерного метода"
   ]
  },
  {
   "cell_type": "code",
   "execution_count": 30,
   "metadata": {
    "slideshow": {
     "slide_type": "fragment"
    }
   },
   "outputs": [],
   "source": [
    "def BarrierPrimalLinConstr(f, gradf, hessf, A, c, x0, mu0, rho_mu, linesearch, linsys_solver, \n",
    "                           tol=1e-8, max_iter=500, disp_conv=False, **kwargs):\n",
    "    x = x0.copy()\n",
    "    n = x0.shape[0]\n",
    "    mu = mu0\n",
    "    while True:\n",
    "        res = NewtonLinConstraintsFeasible(f, gradf, hessf, A, x, linesearch, linsys_solver, (c, mu), \n",
    "                                           disp_conv=disp_conv, max_iter=max_iter, beta1=0.01, rho=0.5)\n",
    "        x = res[\"x\"].copy()\n",
    "        if n * mu < tol:\n",
    "            break\n",
    "        mu *= rho_mu\n",
    "    return x"
   ]
  },
  {
   "cell_type": "code",
   "execution_count": 32,
   "metadata": {
    "slideshow": {
     "slide_type": "slide"
    }
   },
   "outputs": [
    {
     "name": "stderr",
     "output_type": "stream",
     "text": [
      "/Users/alex/anaconda3/envs/cvxpy/lib/python3.6/site-packages/ipykernel_launcher.py:6: RuntimeWarning: invalid value encountered in log\n",
      "  \n"
     ]
    },
    {
     "name": "stdout",
     "output_type": "stream",
     "text": [
      "[5.99985609e-07 1.19522565e-06 2.38665110e-06 4.77027807e-06\n",
      " 9.53815674e-06 1.90744143e-05 7.81250138e+04] 78125\n"
     ]
    }
   ],
   "source": [
    "mu0 = 5\n",
    "rho_mu = 0.5\n",
    "x = BarrierPrimalLinConstr(f, gradf, hessf, A_lin, c, x0, mu0, rho_mu, backtracking, elimination_solver, max_iter=200)\n",
    "# %timeit BarrierPrimalLinConstr(f, gradf, hessf, A_lin, c, x0, mu0, rho_mu, backtracking, elimination_solver, max_iter=100)\n",
    "# %timeit BarrierPrimalLinConstr(f, gradf, hessf, A_lin, c, x0, mu0, rho_mu, backtracking, simple_solver, max_iter=100)\n",
    "print(x[:n], 5**7)"
   ]
  },
  {
   "cell_type": "code",
   "execution_count": 34,
   "metadata": {
    "slideshow": {
     "slide_type": "slide"
    }
   },
   "outputs": [
    {
     "name": "stdout",
     "output_type": "stream",
     "text": [
      "[-64 -32 -16  -8  -4  -2  -1] [[  1.   0.   0.   0.   0.   0.   0.]\n",
      " [  4.   1.   0.   0.   0.   0.   0.]\n",
      " [  8.   4.   1.   0.   0.   0.   0.]\n",
      " [ 16.   8.   4.   1.   0.   0.   0.]\n",
      " [ 32.  16.   8.   4.   1.   0.   0.]\n",
      " [ 64.  32.  16.   8.   4.   1.   0.]\n",
      " [128.  64.  32.  16.   8.   4.   1.]] [    5    25   125   625  3125 15625 78125]\n"
     ]
    }
   ],
   "source": [
    "print(c, A, b)"
   ]
  },
  {
   "cell_type": "code",
   "execution_count": 35,
   "metadata": {
    "slideshow": {
     "slide_type": "slide"
    }
   },
   "outputs": [
    {
     "name": "stdout",
     "output_type": "stream",
     "text": [
      "     pcost       dcost       gap    pres   dres   k/t\n",
      " 0: -3.9062e+04 -1.8554e+05  2e+05  4e-01  6e+00  1e+00\n",
      " 1: -4.7497e+04 -8.2676e+04  4e+04  1e-01  1e+00  4e+02\n",
      " 2: -2.6490e+04 -1.4171e+05  5e+05  3e-01  5e+00  3e+03\n",
      " 3: -1.8691e+06 -5.9550e+06  2e+09  1e+01  2e+02  1e+06\n",
      " 4: -8.1947e+05 -8.0224e+05  1e+08  1e+00  2e+01  5e+05\n",
      " 5: -2.4821e+05 -3.4611e+05  1e+07  3e-01  4e+00  3e+03\n",
      " 6: -1.0143e+05 -8.5466e+04  1e+05  3e-02  4e-01  3e+04\n",
      " 7: -8.1026e+04 -8.1754e+04  1e+04  3e-03  4e-02  2e+02\n",
      " 8: -7.8358e+04 -7.8397e+04  6e+02  2e-04  3e-03  2e+01\n",
      " 9: -7.8135e+04 -7.8136e+04  2e+01  6e-06  9e-05  7e-01\n",
      "10: -7.8125e+04 -7.8125e+04  2e-01  6e-08  9e-07  7e-03\n",
      "11: -7.8125e+04 -7.8125e+04  2e-03  6e-10  9e-09  7e-05\n",
      "Optimal solution found.\n"
     ]
    },
    {
     "data": {
      "text/plain": [
       "78125.00096686829"
      ]
     },
     "execution_count": 35,
     "metadata": {},
     "output_type": "execute_result"
    }
   ],
   "source": [
    "import cvxpy as cvx\n",
    "\n",
    "x = cvx.Variable(n)\n",
    "km_problem = cvx.Problem(cvx.Maximize(-c@x), [A @ x <= b, x >= 0])\n",
    "km_problem.solve(solver=cvx.CVXOPT, verbose=True)"
   ]
  },
  {
   "cell_type": "markdown",
   "metadata": {
    "slideshow": {
     "slide_type": "slide"
    }
   },
   "source": [
    "### Сравнение времени работы"
   ]
  },
  {
   "cell_type": "code",
   "execution_count": 13,
   "metadata": {
    "slideshow": {
     "slide_type": "slide"
    }
   },
   "outputs": [
    {
     "name": "stdout",
     "output_type": "stream",
     "text": [
      "Current dimension = 3\n"
     ]
    },
    {
     "name": "stderr",
     "output_type": "stream",
     "text": [
      "/Users/alex/anaconda3/envs/cvxpy/lib/python3.6/site-packages/ipykernel_launcher.py:6: RuntimeWarning: invalid value encountered in log\n",
      "  \n"
     ]
    },
    {
     "name": "stdout",
     "output_type": "stream",
     "text": [
      "Current dimension = 4\n"
     ]
    },
    {
     "name": "stderr",
     "output_type": "stream",
     "text": [
      "/Users/alex/anaconda3/envs/cvxpy/lib/python3.6/site-packages/ipykernel_launcher.py:6: RuntimeWarning: invalid value encountered in log\n",
      "  \n"
     ]
    },
    {
     "name": "stdout",
     "output_type": "stream",
     "text": [
      "Current dimension = 5\n"
     ]
    },
    {
     "name": "stderr",
     "output_type": "stream",
     "text": [
      "/Users/alex/anaconda3/envs/cvxpy/lib/python3.6/site-packages/ipykernel_launcher.py:6: RuntimeWarning: invalid value encountered in log\n",
      "  \n"
     ]
    },
    {
     "name": "stdout",
     "output_type": "stream",
     "text": [
      "Current dimension = 6\n"
     ]
    },
    {
     "name": "stderr",
     "output_type": "stream",
     "text": [
      "/Users/alex/anaconda3/envs/cvxpy/lib/python3.6/site-packages/ipykernel_launcher.py:6: RuntimeWarning: invalid value encountered in log\n",
      "  \n"
     ]
    },
    {
     "name": "stdout",
     "output_type": "stream",
     "text": [
      "Current dimension = 7\n"
     ]
    },
    {
     "name": "stderr",
     "output_type": "stream",
     "text": [
      "/Users/alex/anaconda3/envs/cvxpy/lib/python3.6/site-packages/ipykernel_launcher.py:6: RuntimeWarning: invalid value encountered in log\n",
      "  \n"
     ]
    },
    {
     "name": "stdout",
     "output_type": "stream",
     "text": [
      "Current dimension = 8\n"
     ]
    },
    {
     "name": "stderr",
     "output_type": "stream",
     "text": [
      "/Users/alex/anaconda3/envs/cvxpy/lib/python3.6/site-packages/ipykernel_launcher.py:6: RuntimeWarning: invalid value encountered in log\n",
      "  \n"
     ]
    },
    {
     "name": "stdout",
     "output_type": "stream",
     "text": [
      "Current dimension = 9\n"
     ]
    },
    {
     "name": "stderr",
     "output_type": "stream",
     "text": [
      "/Users/alex/anaconda3/envs/cvxpy/lib/python3.6/site-packages/ipykernel_launcher.py:6: RuntimeWarning: invalid value encountered in log\n",
      "  \n"
     ]
    }
   ],
   "source": [
    "mu0 = 2\n",
    "rho_mu = 0.5\n",
    "n_list = range(3, 10)\n",
    "n_iters = np.zeros(len(n_list))\n",
    "times_simplex = np.zeros(len(n_list))\n",
    "times_barrier_simple = np.zeros(len(n_list))\n",
    "for i, n in enumerate(n_list):\n",
    "    print(\"Current dimension = {}\".format(n))\n",
    "    c, A, b, bounds = generate_KleeMinty_test_problem(n)\n",
    "    time = %timeit -o -q scopt.linprog(c, A, b, bounds=bounds, options={\"maxiter\": 2**max(n_list) + 1}, method=\"simplex\")\n",
    "    times_simplex[i] = time.best\n",
    "    A_lin = np.zeros((n, n + A.shape[0]))\n",
    "    A_lin[:n, :n] = A\n",
    "    A_lin[:n, n:n + A.shape[0]] = np.eye(A.shape[0])\n",
    "    x0 = np.zeros(2*n)\n",
    "    x0[:n] = np.random.rand(n)\n",
    "    x0[n:2*n] = b - A.dot(x0[:n])\n",
    "    time = %timeit -o -q BarrierPrimalLinConstr(f, gradf, hessf, A_lin, c, x0, mu0, rho_mu, backtracking, simple_solver)\n",
    "    times_barrier_simple[i] = time.best"
   ]
  },
  {
   "cell_type": "code",
   "execution_count": 14,
   "metadata": {
    "slideshow": {
     "slide_type": "slide"
    }
   },
   "outputs": [
    {
     "data": {
      "image/png": "[encoded data removed]",
      "text/plain": [
       "<Figure size 576x360 with 1 Axes>"
      ]
     },
     "metadata": {},
     "output_type": "display_data"
    }
   ],
   "source": [
    "plt.figure(figsize=(8, 5))\n",
    "plt.semilogy(n_list, times_simplex, label=\"Simplex\")\n",
    "plt.semilogy(n_list, times_barrier_simple, label=\"Primal barrier\")\n",
    "plt.legend(fontsize=18)\n",
    "plt.xlabel(\"Dimension, $n$\", fontsize=18)\n",
    "plt.ylabel(\"Computation time, sec.\", fontsize=18)\n",
    "plt.xticks(fontsize=18)\n",
    "_ = plt.yticks(fontsize=18)"
   ]
  },
  {
   "cell_type": "markdown",
   "metadata": {
    "slideshow": {
     "slide_type": "slide"
    }
   },
   "source": [
    "### Комментарии\n",
    "\n",
    "- Было показано, что прямой метод эквивалентен методу Кармаркара\n",
    "- Использует информацию только о прямой задаче\n",
    "- Начальное приближение должно лежать в допустимом множестве - отдельная задача"
   ]
  },
  {
   "cell_type": "markdown",
   "metadata": {
    "slideshow": {
     "slide_type": "slide"
    }
   },
   "source": [
    "## Барьеры для других задач\n",
    "\n",
    "- Для задач полуопределённой опримизации (SDP) - $-\\log\\det X$\n",
    "- Для задач с конусом второго порядка (SOCP) - $-\\log (t^2 - \\|x\\|^2_2)$"
   ]
  },
  {
   "cell_type": "markdown",
   "metadata": {
    "slideshow": {
     "slide_type": "slide"
    }
   },
   "source": [
    " ## Конические задачи\n",
    " \n",
    " - То, что барьеры находятся для конусов - это не совпадение.\n",
    " - В [работе](https://epubs.siam.org/doi/book/10.1137/1.9781611970791?mobileUi=0) Ю. Нестерова и А. Немировского показано, что наиболее важные для практики конусы имеют **самосогласованные** барьеры, которые приводят к полиномиальности соответствующих методов\n",
    " - Не все выпуклые конусы обладают такими барьерами.\n",
    " - Поэтому существуют NP-трудные задачи выпуклой оптимизации."
   ]
  }
 ],
 "metadata": {
  "celltoolbar": "Slideshow",
  "kernelspec": {
   "display_name": "Python 3 (cvxpy)",
   "language": "python",
   "name": "cvxpy"
  },
  "language_info": {
   "codemirror_mode": {
    "name": "ipython",
    "version": 3
   },
   "file_extension": ".py",
   "mimetype": "text/x-python",
   "name": "python",
   "nbconvert_exporter": "python",
   "pygments_lexer": "ipython3",
   "version": "3.6.8"
  }
 },
 "nbformat": 4,
 "nbformat_minor": 4
}
