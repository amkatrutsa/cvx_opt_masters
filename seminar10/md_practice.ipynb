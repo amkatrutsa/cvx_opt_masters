{
 "cells": [
  {
   "cell_type": "markdown",
   "metadata": {
    "slideshow": {
     "slide_type": "slide"
    }
   },
   "source": [
    "# Numerics of MD"
   ]
  },
  {
   "cell_type": "markdown",
   "metadata": {
    "slideshow": {
     "slide_type": "slide"
    }
   },
   "source": [
    "## Test problem\n",
    "\n",
    "\\begin{align*}\n",
    "& \\min_x \\|Ax - b\\|_1\\\\\n",
    "\\text{s.t. } & x \\in \\Delta\n",
    "\\end{align*}\n",
    "\n",
    "- Subgradient $g = \\sum_{i=1}^m sign(a_i^{\\top}x - b) a_i$\n",
    "- Projected subgradient descent $(\\varphi(x) = \\frac12\\|x\\|^2_2)$\n",
    "$$\n",
    "x_{k+1} = \\arg\\min_{x \\in \\Delta} (\\langle g_k, x\\rangle + \\frac{1}{2\\alpha_k}\\|x - x_k\\|_2^2)\n",
    "$$\n",
    "Algorithm for computing projection onto simplex is provided [here](https://arxiv.org/pdf/1101.6081.pdf)\n",
    "- Entropic descent $(\\varphi(x) = \\sum_{i=1}^n x_i \\log x_i)$\n",
    "$$\n",
    "x^i_{k+1} = \\frac{x_k^i \\exp(-\\alpha_k g(x_k)_i)}{\\sum_{j=1}^n x_k^j \\exp(-\\alpha_k g(x_k)_j)}\n",
    "$$"
   ]
  },
  {
   "cell_type": "code",
   "execution_count": 1,
   "metadata": {
    "slideshow": {
     "slide_type": "slide"
    }
   },
   "outputs": [],
   "source": [
    "import numpy as np\n",
    "import matplotlib.pyplot as plt\n",
    "%matplotlib inline\n",
    "plt.rc(\"text\", usetex=True)\n",
    "import cvxpy as cvx\n",
    "from numba import jit"
   ]
  },
  {
   "cell_type": "code",
   "execution_count": 35,
   "metadata": {
    "slideshow": {
     "slide_type": "slide"
    }
   },
   "outputs": [],
   "source": [
    "m = 20\n",
    "n = 3000\n",
    "A = np.random.randn(m, n)\n",
    "# x_true = np.random.rand(n)\n",
    "# x_true = x_true / np.linalg.norm(x_true, 1)\n",
    "x_true = np.zeros(n)\n",
    "x_true[0] = 0.5\n",
    "x_true[1] = 0.5\n",
    "b = A.dot(x_true) + 0.01 * np.random.randn(m)\n",
    "# b = 0.5 * (A[:, 0] + A[:, 1])"
   ]
  },
  {
   "cell_type": "code",
   "execution_count": 36,
   "metadata": {
    "slideshow": {
     "slide_type": "slide"
    }
   },
   "outputs": [],
   "source": [
    "def entropic_descent(subgrad, x0, step_size=None, max_iter=100):\n",
    "    x = x0.copy()\n",
    "    conv = [x]\n",
    "    for i in range(max_iter):\n",
    "        g = subgrad(x)\n",
    "        if step_size is None:\n",
    "            alpha = 1. / (i + 1)\n",
    "        else:\n",
    "            alpha = step_size\n",
    "        x = x * np.exp(-alpha * g) / np.sum(x * np.exp(-alpha * g))\n",
    "        conv.append(x)\n",
    "    return x, conv"
   ]
  },
  {
   "cell_type": "code",
   "execution_count": 37,
   "metadata": {
    "slideshow": {
     "slide_type": "slide"
    }
   },
   "outputs": [],
   "source": [
    "def mirror_prox_entropic_descent(subgrad, x0, step_size=None, max_iter=100):\n",
    "    x = x0.copy()\n",
    "    conv = [x]\n",
    "    for i in range(max_iter):\n",
    "        g = subgrad(x)\n",
    "        if step_size is None:\n",
    "            alpha = 1. / (i + 1)\n",
    "        else:\n",
    "            alpha = step_size\n",
    "        y = x * np.exp(-alpha * g) / np.sum(x * np.exp(-alpha * g))\n",
    "        g_y = subgrad(y)\n",
    "        x = x * np.exp(-alpha * g_y) / np.sum(x * np.exp(-alpha * g_y))\n",
    "        conv.append(x)\n",
    "    return x, conv"
   ]
  },
  {
   "cell_type": "code",
   "execution_count": 38,
   "metadata": {
    "slideshow": {
     "slide_type": "slide"
    }
   },
   "outputs": [],
   "source": [
    "def dual_averaging(subgrad, x0, step_size=None, max_iter=100):\n",
    "    x = x0.copy()\n",
    "    conv = [x]\n",
    "    subgrad_average = np.zeros_like(x0)\n",
    "    for i in range(max_iter):\n",
    "        g = subgrad(x)\n",
    "        subgrad_average = i / (i+1) * subgrad_average + g / (i+1)\n",
    "        if step_size is None:\n",
    "#             alpha = 1. / np.sqrt(i + 1)\n",
    "            alpha = 1. / (i + 1)\n",
    "        else:\n",
    "            alpha = step_size\n",
    "        x = x * np.exp(-alpha * subgrad_average) / np.sum(x * np.exp(-alpha * subgrad_average))\n",
    "        conv.append(x)\n",
    "    return x, conv"
   ]
  },
  {
   "cell_type": "code",
   "execution_count": 39,
   "metadata": {
    "slideshow": {
     "slide_type": "slide"
    }
   },
   "outputs": [],
   "source": [
    "@jit(nopython=True)\n",
    "def proj(y):\n",
    "    x = y.copy()\n",
    "    if np.all(x >= 0) and np.sum(x) <= 1:\n",
    "        return x\n",
    "    x[x < 0] = 0\n",
    "    if np.sum(x) <= 1:\n",
    "        return x\n",
    "    n = x.shape[0]\n",
    "    bget = False\n",
    "    x.sort()\n",
    "    x = x[::-1]\n",
    "    temp_sum = 0\n",
    "    for i in range(n - 1):\n",
    "        temp_sum += x[i]\n",
    "        t_hat = (temp_sum - 1.0) / (i + 1)\n",
    "        if t_hat >= x[i + 1]:\n",
    "            bget = True\n",
    "            break\n",
    "    if not bget:\n",
    "        t_hat = (temp_sum + x[n - 1] - 1.0) / n\n",
    "    return np.maximum(y - t_hat, 0)"
   ]
  },
  {
   "cell_type": "code",
   "execution_count": 40,
   "metadata": {
    "slideshow": {
     "slide_type": "slide"
    }
   },
   "outputs": [],
   "source": [
    "def proj_subgrad(subgrad, proj, x0, step_size=None, max_iter=100):\n",
    "    x = x0.copy()\n",
    "    conv = [x]\n",
    "    for i in range(max_iter):\n",
    "        g = subgrad(x)\n",
    "        if step_size is None:\n",
    "            alpha = 1. / (i+1) \n",
    "        else:\n",
    "            alpha = step_size\n",
    "        x = proj(x - alpha * g)\n",
    "        conv.append(x)\n",
    "    return x, conv"
   ]
  },
  {
   "cell_type": "code",
   "execution_count": 41,
   "metadata": {
    "slideshow": {
     "slide_type": "slide"
    }
   },
   "outputs": [],
   "source": [
    "x0 = np.ones(n) / n\n",
    "max_iter = 4000"
   ]
  },
  {
   "cell_type": "code",
   "execution_count": 42,
   "metadata": {
    "slideshow": {
     "slide_type": "slide"
    }
   },
   "outputs": [],
   "source": [
    "subgrad = lambda x: np.sum(A.T * np.sign(A.dot(x) - b), axis=1)\n",
    "f = lambda x: np.linalg.norm(A.dot(x) - b, 1)"
   ]
  },
  {
   "cell_type": "code",
   "execution_count": 43,
   "metadata": {
    "slideshow": {
     "slide_type": "slide"
    }
   },
   "outputs": [
    {
     "name": "stdout",
     "output_type": "stream",
     "text": [
      "1.0 0.01068251295549591\n"
     ]
    }
   ],
   "source": [
    "step_size_md = None\n",
    "x_entr, conv_entr = entropic_descent(subgrad, x0, step_size_md, max_iter)\n",
    "average_conv_entr = np.array(conv_entr)\n",
    "\n",
    "print(np.linalg.norm(x_entr, 1), f(np.mean(average_conv_entr, axis=0)))\n",
    "f2plot_entr = [f(np.mean(average_conv_entr[:i, :], axis=0)) for i in range(1, len(conv_entr)+1)]"
   ]
  },
  {
   "cell_type": "code",
   "execution_count": 44,
   "metadata": {
    "slideshow": {
     "slide_type": "slide"
    }
   },
   "outputs": [
    {
     "name": "stdout",
     "output_type": "stream",
     "text": [
      "0.999999999999999 1.5893668229336746\n"
     ]
    }
   ],
   "source": [
    "step_size_sg = None\n",
    "x_subgr, conv_projsub = proj_subgrad(subgrad, proj, x0, step_size_sg, max_iter)\n",
    "print(np.linalg.norm(x_subgr, 1), f(x_subgr))"
   ]
  },
  {
   "cell_type": "code",
   "execution_count": 45,
   "metadata": {
    "slideshow": {
     "slide_type": "slide"
    }
   },
   "outputs": [
    {
     "name": "stdout",
     "output_type": "stream",
     "text": [
      "0.9999999999999999 0.01652583966922508\n"
     ]
    }
   ],
   "source": [
    "step_da = None\n",
    "# step_da = None\n",
    "x_da, conv_da = dual_averaging(subgrad, x0, step_da, max_iter)\n",
    "average_conv_da = np.array(conv_da)\n",
    "print(np.linalg.norm(x_da, 1), f(np.mean(average_conv_da, axis=0)))\n",
    "f2plot_da = [f(np.mean(average_conv_da[:i, :], axis=0)) for i in range(1, len(conv_da)+1)]"
   ]
  },
  {
   "cell_type": "code",
   "execution_count": 46,
   "metadata": {
    "slideshow": {
     "slide_type": "slide"
    }
   },
   "outputs": [
    {
     "name": "stdout",
     "output_type": "stream",
     "text": [
      "1.0 0.052764614843561194\n"
     ]
    }
   ],
   "source": [
    "step_mp = None\n",
    "x_mp, conv_mp = mirror_prox_entropic_descent(subgrad, x0, step_mp, max_iter)\n",
    "average_conv_mp = np.array(conv_mp)\n",
    "print(np.linalg.norm(x_mp, 1), f(np.mean(average_conv_mp, axis=0)))\n",
    "f2plot_mp = [f(np.mean(average_conv_mp[:i, :], axis=0)) for i in range(1, len(conv_mp)+1)]"
   ]
  },
  {
   "cell_type": "code",
   "execution_count": 47,
   "metadata": {
    "slideshow": {
     "slide_type": "slide"
    }
   },
   "outputs": [
    {
     "data": {
      "text/plain": [
       "(array([1.e-04, 1.e-03, 1.e-02, 1.e-01, 1.e+00, 1.e+01, 1.e+02, 1.e+03]),\n",
       " <a list of 8 Text yticklabel objects>)"
      ]
     },
     "execution_count": 47,
     "metadata": {},
     "output_type": "execute_result"
    },
    {
     "data": {
      "image/png": "[encoded data removed]",
      "text/plain": [
       "<Figure size 432x288 with 1 Axes>"
      ]
     },
     "metadata": {},
     "output_type": "display_data"
    }
   ],
   "source": [
    "plt.semilogy(f2plot_entr, label=\"Entropy\")\n",
    "plt.semilogy([f(x) for x in conv_projsub], label=\"Proj subgrad\")\n",
    "plt.semilogy([f(x) for x in conv_da], label=\"DA\")\n",
    "plt.semilogy(f2plot_da, label=\"DA averaged\")\n",
    "plt.semilogy(f2plot_mp, label=\"MP averaged\")\n",
    "plt.legend()\n",
    "plt.yticks(fontsize=20)"
   ]
  },
  {
   "cell_type": "code",
   "execution_count": 49,
   "metadata": {
    "slideshow": {
     "slide_type": "slide"
    }
   },
   "outputs": [
    {
     "data": {
      "text/plain": [
       "(array([5.06126825e-03, 1.68793644e-01, 6.73228692e-07, ...,\n",
       "        9.73724370e-08, 1.31283186e-06, 5.17789620e-04]),\n",
       " array([5.10607791e-03, 1.68818523e-01, 6.93119922e-07, ...,\n",
       "        9.79301621e-08, 1.33849657e-06, 5.24805573e-04]))"
      ]
     },
     "execution_count": 49,
     "metadata": {},
     "output_type": "execute_result"
    }
   ],
   "source": [
    "np.mean(average_conv_da, axis=0), np.mean(average_conv_entr, axis=0)"
   ]
  },
  {
   "cell_type": "code",
   "execution_count": 52,
   "metadata": {
    "slideshow": {
     "slide_type": "slide"
    }
   },
   "outputs": [
    {
     "data": {
      "text/plain": [
       "[<matplotlib.lines.Line2D at 0x7ff8e35865f8>]"
      ]
     },
     "execution_count": 52,
     "metadata": {},
     "output_type": "execute_result"
    },
    {
     "data": {
      "image/png": "[encoded data removed]",
      "text/plain": [
       "<Figure size 432x288 with 1 Axes>"
      ]
     },
     "metadata": {},
     "output_type": "display_data"
    }
   ],
   "source": [
    "plt.plot(np.mean(average_conv_da, axis=0))"
   ]
  },
  {
   "cell_type": "code",
   "execution_count": 56,
   "metadata": {
    "slideshow": {
     "slide_type": "slide"
    }
   },
   "outputs": [
    {
     "data": {
      "text/plain": [
       "17"
      ]
     },
     "execution_count": 56,
     "metadata": {},
     "output_type": "execute_result"
    }
   ],
   "source": [
    "np.sum(abs(np.mean(average_conv_da, axis=0)) > 1e-2)"
   ]
  }
 ],
 "metadata": {
  "celltoolbar": "Slideshow",
  "kernelspec": {
   "display_name": "Python 3 (cvxpy)",
   "language": "python",
   "name": "cvxpy"
  },
  "language_info": {
   "codemirror_mode": {
    "name": "ipython",
    "version": 3
   },
   "file_extension": ".py",
   "mimetype": "text/x-python",
   "name": "python",
   "nbconvert_exporter": "python",
   "pygments_lexer": "ipython3",
   "version": "3.6.8"
  }
 },
 "nbformat": 4,
 "nbformat_minor": 2
}
