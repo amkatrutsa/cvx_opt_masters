{
 "cells": [
  {
   "cell_type": "markdown",
   "metadata": {
    "slideshow": {
     "slide_type": "slide"
    }
   },
   "source": [
    "## Proximal methods\n",
    "\n",
    "- Look into black box\n",
    "- Acceleration through model specification"
   ]
  },
  {
   "cell_type": "markdown",
   "metadata": {
    "slideshow": {
     "slide_type": "slide"
    }
   },
   "source": [
    "### Reminder of ODE interpretation of gradient descent\n",
    "\n",
    "Consider the following ODE\n",
    "\n",
    "$$\n",
    "\\frac{dx}{dt} = -f'(x(t))\n",
    "$$\n",
    "\n",
    "and after discretization\n",
    "\n",
    "$$\n",
    "\\frac{x_{k+1} - x_k}{\\alpha} = -f'(x_k),\n",
    "$$\n",
    "\n",
    "where $\\alpha = t_{k+1} - t_k$ is a grid step and $x_k \\equiv x(t_k)$\n",
    "\n",
    "From this follows \n",
    "\n",
    "$$\n",
    "x_{k+1} = x_k - \\alpha f'(x_k),\n",
    "$$\n",
    "\n",
    "which is equivalent to gradient descent method"
   ]
  },
  {
   "cell_type": "markdown",
   "metadata": {
    "slideshow": {
     "slide_type": "slide"
    }
   },
   "source": [
    "### Proximal method as backward Euler scheme\n",
    "\n",
    "$$\n",
    "\\frac{dx}{dt} = -f'(x(t))\n",
    "$$\n",
    "\n",
    "and after discretization in backward manner\n",
    "\n",
    "$$\n",
    "\\frac{x_{k+1} - x_k}{\\alpha} = -f'({\\color{red}{x_{k+1}}}),\n",
    "$$\n",
    "\n",
    "After some re-arrangements\n",
    "\n",
    "\\begin{align*}\n",
    "& \\left(\\frac{1}{2\\alpha} \\|u - x_k\\|_2^2 + f(u) \\right)'(x_{k+1}) = 0 \\\\\n",
    "& x_{k+1} = \\arg\\min_u \\left(f(u) + \\frac{1}{2\\alpha} \\|u - x_k\\|_2^2\\right) = prox_{\\alpha f}(x_k)\n",
    "\\end{align*}\n",
    "\n"
   ]
  },
  {
   "cell_type": "markdown",
   "metadata": {
    "slideshow": {
     "slide_type": "slide"
    }
   },
   "source": [
    "### Example: iterative refinement\n",
    "\n",
    "The method to solve positive semi-definite linear system given Cholesky factorization of $A + \\epsilon I$ for some $\\epsilon$\n",
    "\n",
    "$$ f(x) = \\frac{1}{2}x^{\\top}Ax - b^{\\top}x \\to \\min_x, $$\n",
    "\n",
    "where $A \\in \\mathbb{S}^n_+$\n",
    "\n",
    "\\begin{align*}\n",
    "prox_{\\alpha f} (x_k) & = \\arg\\min_u \\left(\\frac{1}{2}u^{\\top}Au - b^{\\top}u + \\frac{1}{2\\alpha} \\|u - x_k\\|_2^2\\right) \\\\\n",
    "& = \\left(A + (1/ \\alpha) I\\right)^{-1}\\left(b + (1 / \\alpha)x_k\\right) \\\\\n",
    "& = x_k + (A + \\epsilon I)^{-1}(b - Ax_k)\n",
    "\\end{align*}"
   ]
  },
  {
   "cell_type": "code",
   "execution_count": 2,
   "metadata": {
    "slideshow": {
     "slide_type": "slide"
    }
   },
   "outputs": [
    {
     "name": "stdout",
     "output_type": "stream",
     "text": [
      "965.0143277057964 -4.74540322229978e-13 -2033577090290165.8\n",
      "-27509.15791612772\n"
     ]
    }
   ],
   "source": [
    "import scipy.linalg as splin\n",
    "import numpy as np\n",
    "n = 500\n",
    "k = 100\n",
    "A = np.random.randn(k, n)\n",
    "A = A.T @ A\n",
    "spectrum = np.linalg.eigvalsh(A)\n",
    "L, mu = max(spectrum), min(spectrum)\n",
    "print(L, mu, L / mu)\n",
    "x_true = np.random.randn(n)\n",
    "b = A @ x_true\n",
    "x0 = np.random.randn(n)\n",
    "f = lambda x: 0.5 * x @ A @ x - b @ x\n",
    "grad = lambda x: A @ x - b\n",
    "print(f(x_true))\n",
    "cho_factor = splin.cho_factor(A + 1 * np.eye(n))\n",
    "prox_quad = lambda x: x + splin.cho_solve(cho_factor, b - A @ x)"
   ]
  },
  {
   "cell_type": "code",
   "execution_count": 3,
   "metadata": {
    "slideshow": {
     "slide_type": "slide"
    }
   },
   "outputs": [],
   "source": [
    "def prox(prox_func, x0, maxiter):\n",
    "    conv = [x0.copy()]\n",
    "    x = x0.copy()\n",
    "    for i in range(maxiter):\n",
    "        x = prox_func(x)\n",
    "        conv.append(x.copy())\n",
    "    return x, conv"
   ]
  },
  {
   "cell_type": "code",
   "execution_count": 9,
   "metadata": {
    "slideshow": {
     "slide_type": "slide"
    }
   },
   "outputs": [],
   "source": [
    "import liboptpy.unconstr_solvers.fo as fo\n",
    "import liboptpy.step_size as ss\n",
    "methods = {\n",
    "    \"GD fixed\": fo.GradientDescent(f, grad, ss.ConstantStepSize(1)),\n",
    "    \"Nesterov\": fo.AcceleratedGD(f, grad, ss.ConstantStepSize(1))\n",
    "}\n",
    "maxiter=15"
   ]
  },
  {
   "cell_type": "code",
   "execution_count": 10,
   "metadata": {
    "slideshow": {
     "slide_type": "slide"
    }
   },
   "outputs": [],
   "source": [
    "for m in methods:\n",
    "    methods[m].solve(max_iter=maxiter, x0=x0)\n",
    "x_prox, conv_prox = prox(prox_quad, x0, maxiter)"
   ]
  },
  {
   "cell_type": "code",
   "execution_count": 11,
   "metadata": {
    "slideshow": {
     "slide_type": "slide"
    }
   },
   "outputs": [
    {
     "data": {
      "text/plain": [
       "(array([1.e-23, 1.e-15, 1.e-07, 1.e+01, 1.e+09, 1.e+17, 1.e+25, 1.e+33,\n",
       "        1.e+41, 1.e+49, 1.e+57, 1.e+65]),\n",
       " <a list of 12 Text yticklabel objects>)"
      ]
     },
     "execution_count": 11,
     "metadata": {},
     "output_type": "execute_result"
    },
    {
     "data": {
      "image/png": "[encoded data removed]",
      "text/plain": [
       "<Figure size 432x288 with 1 Axes>"
      ]
     },
     "metadata": {},
     "output_type": "display_data"
    }
   ],
   "source": [
    "import matplotlib.pyplot as plt\n",
    "%matplotlib inline\n",
    "for m in methods:\n",
    "    plt.plot([np.linalg.norm(grad(x)) for x in methods[m].get_convergence()], label=m)\n",
    "plt.plot([np.linalg.norm(grad(x)) for x in conv_prox], label=\"Proximal method\")\n",
    "plt.yscale(\"log\")\n",
    "plt.legend()\n",
    "plt.xlabel(r\"Number of iterations, $k$\", fontsize=26)\n",
    "plt.ylabel(r\"$\\|f'(x_k)\\|_2$\", fontsize=26)\n",
    "plt.yticks(fontsize=20)"
   ]
  },
  {
   "cell_type": "markdown",
   "metadata": {
    "slideshow": {
     "slide_type": "slide"
    }
   },
   "source": [
    "### Properties of proximal map \n",
    "\n",
    "$$ x_{k+1} = prox_{f}(x_k) $$\n",
    "\n",
    "a) Fixed point of proximal operator is equal to minimizer of $f$\n",
    "\n",
    "$$ x^* = prox_f(x^*) $$ \n",
    "\n",
    "- Proximal map is not a contraction\n",
    "\n",
    "- There exists theory on firm non-expansiveness of proximal operator\n",
    "\n",
    "- Recent [paper](https://arxiv.org/pdf/1808.03971.pdf) proposes technique to deal with such kind of non-expansiveness\n",
    "\n",
    "b) Resolvent of operator\n",
    "\n",
    "$$ prox_{\\alpha f}(x) = (I + \\alpha f')^{-1}(x) $$\n",
    "\n",
    "This property can be extended to subdifferential."
   ]
  },
  {
   "cell_type": "markdown",
   "metadata": {
    "slideshow": {
     "slide_type": "slide"
    }
   },
   "source": [
    "### Modified gradient step interpretation\n",
    "\n",
    "Assume $f$ is twice differentiable and strong convex ($f''(x) \\succ 0$).\n",
    "\n",
    "1. Gradient method as approximation of proximal method\n",
    "\n",
    "$$ x_{k+1} = prox_{\\alpha f} (x_k) = (I + \\alpha f')^{-1}(x_k) \\approx x_k - \\alpha f'(x_k) + o(\\alpha), \\; \\alpha \\to 0   $$\n",
    "\n",
    "2. Proximal method for second-order approximation $\\hat{f}(v) = f(x) + \\langle f'(x), v - x \\rangle + \\frac{1}{2}\\langle v - x, f''(x) (v - x) \\rangle$\n",
    "\n",
    "$$ prox_{\\alpha \\hat{f}}(x_k) = x_k - (f''(x_k) + (1 / \\alpha)I)^{-1}f'(x_k)  $$"
   ]
  },
  {
   "cell_type": "markdown",
   "metadata": {
    "slideshow": {
     "slide_type": "slide"
    }
   },
   "source": [
    "### Separable sum\n",
    "\n",
    "If $f$ has the form\n",
    "\n",
    "$$\n",
    "f(x) = \\sum_{i=1}^n f_i(x_i)\n",
    "$$\n",
    "\n",
    "then \n",
    "\n",
    "$$\n",
    "prox_f(v)_i = prox_{f_i}(v_i)\n",
    "$$\n",
    "\n",
    "- High parallelization of the proximal operator computing \n",
    "- **Consensus form** of the problem\n",
    "\n",
    "$$\n",
    "\\min \\sum_{i=1}^n f_i(x) \\to \\min \\sum_{i=1}^n f_i(x_i), \\; \\text{s.t. } x_1 = \\ldots = x_n\n",
    "$$\n",
    "\n",
    "- Well-stated for distributed optimization"
   ]
  },
  {
   "cell_type": "markdown",
   "metadata": {
    "slideshow": {
     "slide_type": "slide"
    }
   },
   "source": [
    "## Proximal gradient method (PGM)\n",
    "\n",
    "Consider convex function $f$ such that\n",
    "\n",
    "$$ f(x) = h(x) + g(x), $$\n",
    "\n",
    "where $h(x)$ is convex differentiable, and $g(x)$ can be convex extended-value function, so $g: \\mathbb{R}^n \\to \\mathbb{R} \\cup \\{+\\infty\\}$\n",
    "\n",
    "Then the one step of the proximal gradient method is\n",
    "\n",
    "$$ x_{k+1} = prox_{\\alpha_k g} (x_k - \\alpha_k h'(x_k)) $$\n",
    "\n",
    "- Convergence rate $\\mathcal{O}(1/k)$ for step size $\\alpha_k \\equiv \\alpha \\in (0, 1/L]$, where $L$ is Lipschitz constant of $f'$\n",
    "- Backtracking procedure is available for adaptive search of $\\alpha_k$"
   ]
  },
  {
   "cell_type": "markdown",
   "metadata": {
    "slideshow": {
     "slide_type": "slide"
    }
   },
   "source": [
    "### Fixed point iteration interpretation\n",
    "\n",
    "From the first-order optimality condition follows\n",
    "\n",
    "\\begin{align*}\n",
    "& 0 \\in \\alpha h'(x^*) + \\alpha\\partial g(x^*)\\\\\n",
    "& 0 \\in \\alpha h'(x^*) + x^* - x^* + \\alpha\\partial g(x^*)\\\\\n",
    "& (I - \\alpha h')(x^*) \\in (I + \\alpha \\partial g)(x^*)\\\\\n",
    "& x^* = (I + \\alpha \\partial g)^{-1}(I - \\alpha h')(x^*)\\\\\n",
    "& x^* = prox_{\\alpha g}(x^* - \\alpha h'(x^*))\n",
    "\\end{align*}"
   ]
  },
  {
   "cell_type": "markdown",
   "metadata": {
    "slideshow": {
     "slide_type": "slide"
    }
   },
   "source": [
    "## Evaluation proximal operators\n",
    "\n",
    "- General methods for smooth and non-smooth problems\n",
    "- Separable sum property helps a lot!\n",
    "- Solution via dual problem if constraints are simple"
   ]
  },
  {
   "cell_type": "markdown",
   "metadata": {
    "slideshow": {
     "slide_type": "slide"
    }
   },
   "source": [
    "### Оrthogonal invariant functions\n",
    "\n",
    "- **Definition.** If function $F$ such that $F(X) = F(UXV)$, where $U$ and $V$ are orthogonal matrices, then function $F$ is called **orthogonal invariant**\n",
    "- Why such functions are important?"
   ]
  },
  {
   "cell_type": "markdown",
   "metadata": {
    "slideshow": {
     "slide_type": "slide"
    }
   },
   "source": [
    "- $F(X) = F(diag(\\sigma(X)))$\n",
    "- **Claim.** Function $F$ is orthogonal invariant iff $F = f \\circ \\sigma$, where $f$ is absolutely symmetric, i.e. $f(Qx) = f(x)$ for any matrix $Q$ such that each column and each row have the single non-zero element from $\\{ -1, +1 \\}$\n",
    "- **Claim.** $F$ is convex iff $f$ is convex\n",
    "- Induce properties of $F$ from properties of $f$!"
   ]
  },
  {
   "cell_type": "markdown",
   "metadata": {
    "slideshow": {
     "slide_type": "slide"
    }
   },
   "source": [
    "- Subdifferential\n",
    "\n",
    "$$ \\partial F(X) = \\{ U \\mathrm{diag}(\\mu) V \\mid \\mu \\in \\partial f(\\mathrm{diag}(\\sigma(X))) \\}, $$\n",
    "\n",
    "where $U$ and $V$ are from SVD of $X$: $X = U \\mathrm{diag}(\\sigma) V$\n",
    "\n",
    "- Proximal map\n",
    "\n",
    "$$ prox_{\\lambda F} (A) = U prox_{\\lambda f} (\\mathrm{diag}(\\sigma(A)) V $$\n",
    "\n",
    "-  Reduce computing proximal operator of $F$ to computing proximal operator of $f$ \n",
    "\n",
    "- Reduce extracting properties of $F$ and $X$ to extracting properties of $f$ and $\\sigma(X)$"
   ]
  },
  {
   "cell_type": "markdown",
   "metadata": {
    "slideshow": {
     "slide_type": "slide"
    }
   },
   "source": [
    "## Experiments"
   ]
  },
  {
   "cell_type": "code",
   "execution_count": 12,
   "metadata": {
    "slideshow": {
     "slide_type": "slide"
    }
   },
   "outputs": [],
   "source": [
    "def prox_alg(f, f_grad, g_prox, x0, num_iter, beta=0.5, fix_lam=None, accel=False):\n",
    "    conv = [x0]\n",
    "    x = x0.copy()\n",
    "    if accel:\n",
    "        t_prev = 1\n",
    "        t_next = (1 + np.sqrt(1 + 4 * t_prev**2)) / 2.\n",
    "    if fix_lam is None:\n",
    "        lam = 1.\n",
    "    for i in range(num_iter):\n",
    "        if accel and i > 0:\n",
    "            x = x + (t_prev - 1) / t_next * (x - conv[-2])\n",
    "            t_prev = t_next\n",
    "            t_next = (1 + np.sqrt(1 + 4 * t_prev**2)) / 2.\n",
    "        if fix_lam is None:\n",
    "            while True:\n",
    "                z = g_prox(x - lam * f_grad(x), lam)\n",
    "                if f(z) <= f(x) + f_grad(x).dot(z - x) + \\\n",
    "                                np.linalg.norm(z - x)**2 / (2 * lam):\n",
    "                    break\n",
    "                else:\n",
    "                    lam = lam * beta\n",
    "        else:\n",
    "            z = g_prox(x - fix_lam * f_grad(x), fix_lam)\n",
    "        x = z.copy()\n",
    "        conv.append(x)\n",
    "    return x, conv"
   ]
  },
  {
   "cell_type": "markdown",
   "metadata": {
    "slideshow": {
     "slide_type": "slide"
    }
   },
   "source": [
    "## Lasso problem\n",
    "\n",
    "$$ \\min \\frac{1}{2}\\|Ax - b\\|_2^2 + \\gamma \\|x\\|_1 $$\n",
    "\n",
    "- $h(x) = \\frac12 \\|Ax - b\\|_2^2$\n",
    "- $g(x) = \\gamma \\|x\\|_1$"
   ]
  },
  {
   "cell_type": "code",
   "execution_count": 13,
   "metadata": {
    "slideshow": {
     "slide_type": "slide"
    }
   },
   "outputs": [],
   "source": [
    "f = lambda x: np.linalg.norm(A.dot(x) - y)**2 / 2\n",
    "f_grad = lambda x: A.T.dot(A.dot(x) - y)\n",
    "def g_prox(h, lam):\n",
    "    return np.sign(h) * np.maximum(np.abs(h) - lam * gamma, 0) "
   ]
  },
  {
   "cell_type": "code",
   "execution_count": 14,
   "metadata": {
    "slideshow": {
     "slide_type": "slide"
    }
   },
   "outputs": [
    {
     "name": "stdout",
     "output_type": "stream",
     "text": [
      "Number of nonzeros in x_true = 47\n"
     ]
    }
   ],
   "source": [
    "import sklearn.preprocessing as skprep\n",
    "m = 500\n",
    "n = 1000\n",
    "A = np.random.rand(m, n)\n",
    "A = skprep.normalize(A, norm=\"l2\", axis=0)\n",
    "L = np.linalg.eigvalsh(A.T.dot(A)).max()\n",
    "x_true = np.random.randn(n)\n",
    "x_true[np.random.rand(n) < 0.96] = 0\n",
    "print(\"Number of nonzeros in x_true = {}\".format(np.sum(x_true != 0)))\n",
    "v = 9e-2 * np.random.randn(m)\n",
    "y = A.dot(x_true) + v\n",
    "gamma = 1"
   ]
  },
  {
   "cell_type": "code",
   "execution_count": 15,
   "metadata": {
    "slideshow": {
     "slide_type": "slide"
    }
   },
   "outputs": [],
   "source": [
    "num_iter = 500\n",
    "# x0 = np.zeros(n)\n",
    "x0 = np.random.rand(n)"
   ]
  },
  {
   "cell_type": "code",
   "execution_count": 24,
   "metadata": {
    "slideshow": {
     "slide_type": "slide"
    }
   },
   "outputs": [
    {
     "name": "stdout",
     "output_type": "stream",
     "text": [
      "Number nonzeros in x* = 162\n",
      "f* = 11.033794783432334\n",
      "Number nonzeros in x* = 13\n",
      "f* = 10.275148212434301\n",
      "Number nonzeros in x* = 1000\n",
      "f* = 11.10751154584132\n",
      "[ 1.62119485e-03  1.06610481e-03  5.67796703e-02  3.80215841e-04\n",
      " -1.30632887e-04  7.84281985e-04  1.02112354e-04  8.91738262e-05\n",
      "  6.67127003e-04  2.33479715e-04 -1.18822673e-05  2.80506202e-04\n",
      "  1.82180600e-03  9.65469707e-02  3.71133008e-04 -8.04475229e-05\n",
      "  1.39789911e-03  1.41101278e-03  3.77377365e-02  6.33112450e-04\n",
      "  1.37766023e-03  7.10432215e-04  1.23186512e-03  7.45603652e-04\n",
      "  3.10177689e-05  6.04895083e-04  1.49435632e-03  7.39711518e-04\n",
      "  3.75492061e-04  7.41653453e-02  1.61421821e-03 -2.42612096e-05\n",
      "  2.17387420e-03  3.92564255e-04  7.02429848e-02  1.24049699e-03\n",
      "  9.75875506e-04  1.29318585e-03  5.92800091e-03  1.73935194e-03\n",
      "  2.31718452e-04  3.77139223e-04  2.24778805e-02  3.85467218e-04\n",
      "  1.00363322e-04  1.73740519e-03  6.45427644e-04  1.73039292e-03\n",
      "  1.19798184e-03  9.90203372e-04  1.27379063e-03  4.61581054e-05\n",
      "  1.45510212e-03  5.08779046e-04  2.64652040e-04  1.42442598e-03\n",
      "  1.20163456e-04  6.15420776e-04  7.23139931e-04  1.46209957e-03\n",
      "  1.96222760e-04  9.84793743e-04  1.57715578e-03  8.78899344e-04\n",
      "  1.69655599e-03  8.80504913e-04  1.05797039e-03  2.61867165e-04\n",
      "  1.84185636e-03  1.61711666e-03  1.10285278e-03  1.43220064e-03\n",
      "  1.19635674e-03  3.34629679e-04  1.47613044e-03  1.13993572e-03\n",
      "  1.13419442e-03  1.69105564e-03  7.16402345e-04  1.06795087e-03\n",
      "  5.72470287e-04  1.63450680e-03  4.65868084e-04 -5.84687254e-05\n",
      "  3.26419966e-04  3.38300506e-04  7.11661728e-04 -5.56421329e-05\n",
      "  5.17381971e-02  2.27780123e-04  1.44507849e-03  1.41254309e-03\n",
      "  1.99134330e-02  1.56824159e-03  5.54072407e-05  1.04294439e-03\n",
      " -1.63353591e-04  1.10683834e-03  1.34498587e-03  6.89375435e-04\n",
      "  8.78943038e-04  8.62586710e-04  1.96725455e-04  4.59224160e-04\n",
      "  1.70209797e-03  4.62369074e-04  1.02159690e-03 -2.95410048e-04\n",
      "  1.35694918e-03  1.15335929e-03  1.15422811e-03  1.72776422e-03\n",
      "  5.31460829e-04  2.20490168e-05  1.48961700e-03  1.47803113e-03\n",
      "  1.02077180e-03  1.82922045e-03  4.05187151e-04  4.91130219e-04\n",
      "  2.46874748e-04  1.66814469e-03  5.04940555e-04  1.44920958e-03\n",
      "  1.53995212e-03  6.69563751e-04 -1.05767248e-04  4.59670857e-04\n",
      "  1.63750955e-03  9.26752422e-04  1.30701682e-03  1.05034520e-03\n",
      "  1.13176813e-03  1.45547426e-03  1.37098066e-03  2.45644906e-04\n",
      "  2.23368097e-03  1.90096691e-03  1.28753730e-03  4.84121292e-05\n",
      "  3.58438307e-02  3.58535793e-04  7.00305407e-04  4.11143724e-04\n",
      "  5.33164213e-04  1.82402264e-03  1.64060403e-03  3.90058306e-04\n",
      " -9.09426722e-05  8.04781275e-03  1.55351653e-02  1.10908322e-04\n",
      "  3.63312553e-02  1.56870042e-03  1.70333565e-03  6.24754283e-04\n",
      "  8.20586956e-02  2.91306918e-03  1.24428851e-03  3.12676060e-04\n",
      "  2.82917219e-04  4.97939705e-04  2.47152970e-04  1.81180766e-03\n",
      "  1.68088248e-03  3.47832620e-04  1.70186376e-03  7.66466517e-04\n",
      "  1.36905144e-03 -9.96350721e-05  4.54184186e-04  1.39860994e-03\n",
      "  1.55514876e-03  8.91375750e-04  6.64954174e-04  1.86921541e-03\n",
      "  1.22249486e-03  3.20338056e-04  7.18773707e-04  1.37706168e-03\n",
      "  1.03652328e-03 -1.44102456e-04  3.16842235e-03  1.11919595e-03\n",
      "  2.54757910e-02  4.17173328e-04  3.16441702e-04 -3.63878111e-06\n",
      "  1.18360549e-03  1.64165392e-03  2.67633505e-04  1.90011230e-03\n",
      "  2.50778809e-04  5.69426983e-04  8.43304748e-05  7.04162183e-02\n",
      "  1.07491711e-03  1.12743007e-03  1.91849645e-04  2.10753610e-04\n",
      "  3.01249409e-04  1.09445655e-03  1.22073027e-03  1.97637895e-02\n",
      "  1.10487399e-03  7.87411393e-04  4.60046251e-04  1.54635460e-03\n",
      "  2.10972317e-04  4.64471306e-04  1.28231366e-01  9.76694870e-04\n",
      "  1.44216167e-03  1.05553787e-03  1.23676452e-03  1.78861761e-04\n",
      "  2.46435601e-03  3.91314253e-04  1.78528522e-03  1.71528570e-03\n",
      "  1.44575612e-03 -1.05042822e-04  1.60732159e-03  1.74896031e-03\n",
      "  1.00901590e-04  1.49958061e-03  4.70578298e-04  1.12155186e-03\n",
      "  3.32113847e-04  1.37169983e-03  4.09482243e-04  5.76286971e-04\n",
      "  1.50628541e-03  1.31314417e-03  1.61512524e-03  8.35896589e-04\n",
      "  1.64700616e-03  1.20296776e-03  1.77760121e-02  1.45587562e-03\n",
      "  7.19100847e-02  9.13252962e-04  5.67188950e-04  1.83172756e-03\n",
      "  1.08359925e-03  9.33839288e-04  1.12599505e-03  1.33711475e-03\n",
      "  7.47742220e-04  1.13975305e-03  1.26337048e-04  6.36837610e-04\n",
      "  7.77842381e-04  1.45344266e-03  1.67042217e-04  1.25913565e-03\n",
      "  1.03949993e-03  1.36356927e-03  1.74803898e-04  1.26515891e-03\n",
      "  5.67566670e-02  3.25909135e-03  1.78047985e-03  1.32864162e-03\n",
      "  6.13813057e-02  8.76396242e-05  2.14241977e-04  5.06476854e-04\n",
      "  4.85241422e-04  3.76604212e-04  1.65378216e-03  9.80256706e-05\n",
      "  3.31615052e-04  1.00652325e-03  1.10029604e-03  1.52599936e-03\n",
      "  7.20821818e-04  1.23271716e-03  9.18376073e-04  7.81178973e-05\n",
      "  5.44870392e-04  1.08156300e-03  1.72701227e-03  1.28059796e-03\n",
      "  1.26621073e-03  1.69579028e-03  2.53538959e-03  1.04874792e-03\n",
      "  1.42256037e-03  3.76177221e-04  1.18934020e-02  1.82307602e-03\n",
      "  1.23731504e-03  1.63749306e-03  1.38822848e-03  7.81778071e-05\n",
      "  7.41275496e-04  1.73330496e-03  1.55981570e-04  2.70906244e-04\n",
      "  1.58397377e-03  1.21577802e-03  1.48741249e-03  1.46350004e-03\n",
      "  1.49730049e-03  4.95368778e-04  6.90967075e-04  6.31233792e-04\n",
      "  1.52030566e-03  7.13973691e-04  1.79766460e-03  1.33749966e-04\n",
      "  5.48024250e-04  2.48621917e-02  1.10506277e-03  3.98408880e-04\n",
      "  1.28099856e-03  1.81681676e-03  1.46190416e-03  8.87768914e-04\n",
      "  1.00529375e-03  1.01357900e-03  1.40906096e-03  8.32062370e-04\n",
      "  1.70682084e-03  4.54779807e-02  2.56693670e-04  1.90620787e-04\n",
      "  5.36535287e-04  9.01953764e-04  1.55163198e-03  1.18337295e-04\n",
      "  1.74786239e-04  5.57216348e-04  5.59678202e-04  6.78968970e-04\n",
      "  1.18609427e-03  7.15418625e-02  5.85725952e-02  1.26772781e-03\n",
      "  1.21107753e-03  8.83480206e-04  6.09383171e-04  1.00840152e-04\n",
      "  9.29571861e-04  1.77640323e-03  7.00739978e-04  3.11237137e-02\n",
      "  1.60971738e-03  5.97799377e-04  7.65530030e-04  2.97472758e-02\n",
      "  4.99134567e-04  1.24289577e-03  1.14956136e-03  1.66198336e-03\n",
      "  1.60652656e-03  4.93164617e-02  1.70224657e-03  1.20797931e-04\n",
      "  1.80465093e-03  1.59041155e-05  1.46385311e-03  1.21277024e-03\n",
      "  1.80875594e-03 -5.92273665e-05  1.54048866e-03  3.91726875e-04\n",
      "  8.84935835e-04  8.11103369e-04  6.65561951e-05  1.79488378e-03\n",
      "  9.16946628e-04  1.44768786e-02  1.55061884e-03  1.48820767e-03\n",
      "  1.13187866e-03  1.16953208e-03  5.13212892e-04  1.06002045e-03\n",
      "  2.50453684e-04  1.69868158e-03  1.15111508e-03  1.12264912e-03\n",
      "  1.25285658e-03  2.12125200e-04  3.82803094e-04  3.78029065e-04\n",
      " -1.85046811e-04  8.39858391e-04  1.00483887e-03  2.38977057e-05\n",
      "  1.67836573e-03  1.13441436e-04 -4.02098639e-05  9.25454711e-04\n",
      "  5.32029878e-04  1.51842390e-03  9.08393522e-04  6.16981607e-04\n",
      "  5.24868621e-02  4.90787163e-04  1.26723481e-03  4.01017598e-04\n",
      "  1.01719235e-03  1.05294909e-03  3.69027182e-04  1.49549628e-03\n",
      "  2.85552507e-04  1.02472187e-03  1.68464389e-03  1.58016912e-03\n",
      "  3.67010355e-04  5.68234072e-04  5.16409530e-04  1.35304636e-04\n",
      "  1.53032248e-03  1.62825774e-03 -4.06185706e-05  5.47527946e-04\n",
      "  2.06070375e-04  1.87205166e-03  1.75217301e-03  9.63236733e-04\n",
      "  1.23670405e-03  4.84449736e-04  1.33921903e-03  1.17697604e-03\n",
      "  3.71112541e-04  4.83231331e-04  1.35951008e-03  6.68929407e-04\n",
      "  7.87930586e-04  1.42932850e-04  1.06591614e-03  1.31573549e-03\n",
      "  1.71149954e-03  4.60228854e-04  1.41842336e-03 -1.28188466e-04\n",
      "  4.14860317e-03  8.78502990e-04  1.56947109e-03  9.26947765e-04\n",
      "  2.32036293e-04  3.86184678e-02  5.92531029e-04  1.91855514e-04\n",
      "  1.48885703e-04  4.23799546e-05  1.81845915e-04  1.68033887e-03\n",
      "  2.26266062e-04  6.23949874e-04  2.85219864e-04  1.20648190e-03\n",
      "  2.85878414e-04  1.35963490e-03  3.76628025e-02  2.70462570e-02\n",
      "  2.85406865e-04  5.31156172e-04  1.81246802e-03  4.62604147e-04\n",
      "  1.35824666e-04 -1.39811813e-04  9.75376297e-04  1.32754278e-03\n",
      "  8.25638183e-04  1.03659784e-03  2.52478793e-02  8.97458217e-04\n",
      "  4.22287687e-04  1.46416455e-03  1.46325706e-03  9.90775776e-04\n",
      "  1.52487712e-04  1.62447660e-03 -6.06592160e-05  4.69975835e-04\n",
      "  1.19695004e-03  1.76196620e-03  1.50638610e-03  4.62737409e-04\n",
      "  9.41780635e-04  1.56867540e-03  1.29270077e-03  8.34937358e-04\n",
      "  4.55601468e-04  3.72970068e-04  1.07948757e-03  1.38319813e-01\n",
      "  3.02442758e-04  4.63539166e-04  6.79758722e-04  9.04607865e-04\n",
      "  7.07594401e-04  1.75909482e-03  6.37398905e-04  2.58229392e-03\n",
      "  2.15257012e-02  1.35449317e-03  6.27445741e-04  8.69900829e-04\n",
      "  6.57846681e-04  2.72396486e-04  1.47906336e-03  4.40046260e-04\n",
      "  1.25169926e-03  1.40081248e-03  5.18680462e-04  1.47904668e-03\n",
      "  1.21857434e-03  3.82481026e-04  1.66727115e-03 -6.56225975e-05\n",
      "  1.37338777e-03 -7.40966948e-05 -4.34834904e-05  1.25200216e-03\n",
      "  1.22306583e-03  1.64929246e-03  9.66738817e-04  1.76747063e-03\n",
      "  1.46793659e-03  8.08466389e-04  1.07389341e-03  9.04909080e-04\n",
      " -1.58832949e-05  1.11499780e-03  1.11198890e-03  8.42971402e-04\n",
      " -1.02007197e-04  1.87457980e-03  1.40873944e-05 -6.61064379e-05\n",
      "  1.32142482e-03  1.21677617e-03  8.05698507e-04  1.59654551e-03\n",
      "  1.50450574e-03  7.40350471e-05  9.14697773e-04  1.71748753e-04\n",
      "  1.56750960e-03  2.49521227e-04  1.08786333e-04  1.69177915e-03\n",
      "  1.71641620e-03  4.95186248e-04  7.11647251e-02  1.23048371e-03\n",
      "  7.67687670e-04  1.66064672e-04  3.29434775e-04  1.34325703e-03\n",
      "  6.85601800e-04  3.46341463e-03  7.62045879e-04  3.38663278e-04\n",
      "  4.91723302e-04  1.66028109e-04 -1.11120888e-04  2.92785280e-04\n",
      "  4.92707668e-02 -3.71134345e-05  1.94607674e-02  2.29797994e-04\n",
      "  6.14775053e-04  5.49785397e-04  8.29869027e-04  1.79134585e-03\n",
      "  1.57946640e-03  1.81928860e-03  9.44281150e-04  1.09209336e-03\n",
      "  8.61007048e-04  3.63221270e-04  1.13204131e-03 -8.06202087e-05\n",
      "  1.45467594e-03 -2.31222951e-04  4.92333224e-04  1.45784428e-02\n",
      "  2.96747610e-04  5.27421506e-04  9.05342585e-04  1.19723839e-04\n",
      "  1.32149352e-04  9.56391556e-04  9.70449139e-04  1.97780032e-04\n",
      "  8.17201299e-04  8.31443727e-04  3.18347188e-03  1.33757272e-03\n",
      "  1.85514209e-03  5.93208623e-05  1.43474403e-03  1.15943571e-03\n",
      "  2.91194174e-04 -1.28303780e-04  1.02459292e-03  1.21538556e-03\n",
      "  4.00632531e-04  1.23757829e-03  2.64937879e-04  3.06036430e-04\n",
      "  3.08528975e-04  1.92209116e-03  2.48365673e-04  3.94980079e-04\n",
      "  1.12650055e-03  1.35905802e-03  1.16711925e-03  7.82761326e-04\n",
      "  1.16780282e-03  1.19589093e-04  5.16220830e-04  1.42563071e-03\n",
      "  1.39938679e-03  2.54772316e-03  1.02223446e-04  1.65545242e-03\n",
      "  2.62946891e-01  2.27240348e-04  2.21893211e-04  5.27958126e-04\n",
      "  6.57058162e-04  7.97503956e-04  1.83588318e-03  3.76423460e-04\n",
      "  1.26015330e-03  6.95622210e-04  1.69179869e-03  1.72128864e-04\n",
      "  1.13555429e-03  5.77233462e-04  4.24731409e-04  8.57909145e-04\n",
      "  1.47268398e-03 -2.27494414e-04  2.51490527e-04  2.49130171e-05\n",
      "  1.32139636e-03  8.78944588e-04  8.18565635e-04  2.11254717e-05\n",
      "  1.56603734e-03  1.11317846e-03  1.53866320e-03  1.17248147e-03\n",
      "  1.62792668e-03  3.70462914e-04  1.30960176e-03  1.75729269e-03\n",
      "  3.40097356e-02  2.90488812e-04  4.74535202e-02  8.03820192e-04\n",
      "  9.99922116e-04  4.90532688e-04  9.51509179e-04  1.59497036e-03\n",
      "  7.52498368e-04  1.22654216e-03  1.44766565e-03  8.59530864e-04\n",
      "  6.32036988e-04  8.60975120e-04  1.84291546e-03  5.07975130e-04\n",
      "  9.32760123e-04  4.08860561e-04  2.01413740e-03  1.67169157e-03\n",
      "  6.20353604e-04  2.75460715e-04  3.79103607e-03  3.08322290e-04\n",
      "  1.72772629e-03  1.52329492e-03  1.04368086e-03  2.83232337e-04\n",
      "  4.48132025e-04  1.54033302e-03  5.55601367e-03  1.09531618e-03\n",
      "  1.42060876e-03  1.78284774e-03  8.74193288e-04  1.43792513e-03\n",
      " -8.40229434e-06  4.25713761e-07  1.57981347e-03  5.43945354e-05\n",
      "  8.96799655e-04  1.39115330e-03  5.04105584e-04  7.85674767e-04\n",
      "  6.85685175e-04  1.48215243e-03  3.73564686e-02  6.56006080e-04\n",
      "  2.61102043e-02  2.11440178e-02  1.40417798e-03  5.49083508e-02\n",
      " -2.08110145e-04  1.70011800e-03  5.06072447e-04  1.55711032e-03\n",
      "  5.38448077e-04  1.11767507e-03  1.10759943e-03 -3.68806693e-05\n",
      "  4.48571838e-04  1.69666216e-03  7.14876410e-03  8.79700211e-04\n",
      " -9.88371792e-05  1.24579599e-03  4.46316672e-04  4.60988717e-04\n",
      "  1.32638780e-03  1.22425846e-03  3.10046207e-04  3.08020915e-05\n",
      "  1.61009287e-03 -3.99809884e-05  3.29209048e-05  5.40185512e-04\n",
      "  9.19355226e-04  7.33136726e-05  5.36052768e-04  1.82448995e-03\n",
      "  1.03523325e-03  9.68626940e-04  1.60454188e-03  6.42935470e-06\n",
      "  1.84220191e-04  1.30556082e-03  1.44847946e-03  5.73708670e-02\n",
      "  4.99180217e-04  1.04805513e-03  1.78691146e-03  5.80026209e-04\n",
      "  9.78130305e-04  3.25786674e-04  4.54759373e-04  8.09637001e-04\n",
      "  1.27908533e-03 -7.77943885e-05  1.39026415e-03  7.16216713e-04\n",
      "  1.19194119e-03  1.39347728e-03  3.06523328e-02  1.30597624e-04\n",
      "  3.75111155e-04  1.61895627e-03  1.66582960e-03  1.34346444e-03\n",
      "  1.16020983e-03  1.32694714e-03  1.31150619e-03  8.51798533e-04\n",
      "  1.69573517e-03  1.72705274e-03  1.36003873e-03  7.23466284e-04\n",
      "  7.30256347e-04  9.77273161e-04  3.64216357e-04  1.76239365e-03\n",
      "  1.57800881e-03  6.57294766e-04  1.78331384e-03  1.02648574e-03\n",
      "  9.74051411e-04  1.75705222e-03  1.27788330e-03  1.42016610e-03\n",
      "  1.16972703e-03  4.17268591e-02  1.21677133e-03  1.36074365e-03\n",
      "  1.86152518e-03 -1.78944372e-04  1.43102398e-03  3.89557938e-04\n",
      "  1.85359997e-03  6.55448333e-04 -1.00222544e-04  1.19311294e-03\n",
      " -9.36900284e-05  1.84386434e-03  8.13973072e-05  1.62185064e-03\n",
      "  1.79306391e-03  1.56174924e-03  1.50387806e-03  9.98167906e-04\n",
      "  1.71247497e-03  8.81151591e-04  1.37138085e-03  1.24705553e-03\n",
      "  9.55271944e-04  5.41827774e-04 -2.04088778e-04  4.11848734e-04\n",
      "  1.49114406e-03  1.50615086e-03  1.57216572e-03  1.15010498e-03\n",
      " -4.48287192e-05  8.82222410e-04  7.65892722e-04  2.93005744e-05\n",
      "  1.46589273e-03  1.47439775e-03  1.09774987e-03  4.53035630e-04\n",
      "  1.69743182e-03  3.70810158e-04 -9.95364711e-05  4.00727809e-04\n",
      "  1.16709536e-03  9.66253969e-05  1.63206927e-03  1.84702514e-03\n",
      "  1.94755168e-03  3.43866088e-02  8.10072586e-04  1.37346175e-03\n",
      "  7.24910230e-04  2.78348761e-04  1.35561603e-03  1.01729298e-03\n",
      "  1.40598149e-03  1.32544710e-03  9.70911821e-03  8.93115505e-04\n",
      "  3.08714194e-04  3.89766700e-02 -2.88852884e-05  1.62584035e-03\n",
      "  2.28852989e-04  3.68597717e-04  2.86020205e-05  6.98424380e-04\n",
      "  1.83028904e-03  1.93932889e-03  1.38205219e-03  1.60868664e-03\n",
      "  7.88231295e-04  1.11802102e-04 -7.89689010e-05  3.27074479e-03\n",
      "  1.91366499e-02  4.06408965e-04  9.78450809e-02  3.29815605e-02\n",
      "  1.86276116e-03  8.84024881e-04  1.09943317e-03  1.28717374e-03\n",
      "  1.04232207e-03 -1.08828423e-04  2.65816532e-04  1.65902624e-03\n",
      "  1.26907195e-03  5.83549883e-04  1.42357566e-03  6.69833246e-04\n",
      "  1.13332541e-03  3.33530212e-04  1.73344459e-03  1.64806547e-03\n",
      "  1.97765044e-04  1.13587229e-03  1.75667936e-04  1.65569549e-03\n",
      "  4.04233442e-04  1.39254709e-03 -6.63443223e-05  1.22904402e-03\n",
      "  5.46927506e-05  9.64190233e-04  3.27733052e-04  8.90455498e-04\n",
      "  1.50758457e-03  1.17388896e-03  4.24294807e-02  2.10680795e-04\n",
      "  1.67109928e-04  1.21410216e-01 -1.65797095e-04  1.21027024e-03\n",
      "  1.58160662e-03  1.44234192e-03  1.23407998e-04  7.26091261e-04\n",
      "  1.38807130e-03  1.34680899e-03  2.26297474e-04  9.20701469e-04\n",
      "  4.97973278e-04  1.43401316e-03  6.88556180e-04  1.36574211e-04\n",
      "  9.16801255e-04  1.86091960e-03  1.04581315e-03  2.74523009e-04\n",
      "  5.96889059e-04  9.37436758e-04 -1.15401624e-05  1.43151749e-03\n",
      " -1.29215566e-04  1.36987328e-03  6.28474745e-04  1.24486948e-03\n",
      "  1.38048823e-03  2.31302871e-04  1.09719870e-03  1.54909725e-03\n",
      "  4.51532865e-04  1.01307132e-03  1.10427570e-03 -1.71667750e-04\n",
      "  1.75935979e-03  1.22894195e-03  6.46752485e-04  1.58744440e-03\n",
      "  2.44331915e-02  9.56378885e-04  3.23197268e-04  5.57482152e-02\n",
      "  1.22355984e-03 -1.11783963e-04  1.37251677e-03  1.68071630e-03\n",
      "  3.89233802e-05  1.18968311e-03  7.05816441e-04 -1.90711857e-04\n",
      "  7.93904921e-04  1.03842647e-03  1.15334114e-03  1.04721489e-03\n",
      "  9.19210389e-04  1.28602337e-03  1.18133128e-03  1.20120567e-03\n",
      "  1.53212248e-03  3.10514599e-04  1.19151394e-03  1.75864346e-03\n",
      "  1.41412286e-05  1.96907795e-04  6.95717063e-05  4.84551313e-04\n",
      "  6.70126148e-05  4.16654171e-04  1.11405154e-04  7.53626097e-04\n",
      "  1.22371360e-03  7.16001616e-04  5.16573838e-04  1.73021041e-03\n",
      "  3.28881711e-04  1.17656661e-03  1.64776656e-04  1.18227450e-03\n",
      "  1.13388131e-03  7.39942089e-04  1.70339128e-03  6.52808632e-04\n",
      "  4.51832931e-04  2.74060001e-04  4.10633499e-04  1.18256765e-04\n",
      "  3.42613972e-02  1.49652185e-03  2.22758213e-02  8.80009959e-04\n",
      "  1.29751887e-03  4.03781689e-04  6.16591537e-04  7.53109528e-04\n",
      "  1.45890249e-03  1.23391950e-03 -1.64366211e-05  1.86800563e-03\n",
      "  1.82163636e-03  1.17063285e-03  1.51831848e-03  1.08519578e-03] [0.         0.         0.         0.         0.         0.\n",
      " 0.         0.         0.         0.         0.         0.\n",
      " 0.         0.         0.         0.         0.         0.\n",
      " 0.         0.         0.         0.         0.         0.\n",
      " 0.         0.         0.         0.         0.         0.\n",
      " 0.         0.         0.         0.         0.         0.\n",
      " 0.         0.         0.         0.         0.         0.\n",
      " 0.         0.         0.         0.         0.         0.\n",
      " 0.         0.         0.         0.         0.         0.\n",
      " 0.         0.         0.         0.         0.         0.\n",
      " 0.         0.         0.         0.         0.         0.\n",
      " 0.         0.         0.         0.         0.         0.\n",
      " 0.         0.         0.         0.         0.         0.\n",
      " 0.         0.         0.         0.         0.         0.\n",
      " 0.         0.         0.         0.         0.         0.\n",
      " 0.         0.         0.         0.         0.         0.\n",
      " 0.         0.         0.         0.         0.         0.\n",
      " 0.         0.         0.         0.         0.         0.\n",
      " 0.         0.         0.         0.         0.         0.\n",
      " 0.         0.         0.         0.         0.         0.\n",
      " 0.         0.         0.         0.         0.         0.\n",
      " 0.         0.         0.         0.         0.         0.\n",
      " 0.         0.         0.         0.         0.         0.\n",
      " 0.         0.         0.         0.         0.         0.\n",
      " 0.         0.         0.         0.         0.         0.\n",
      " 0.         0.         0.         0.         0.         0.\n",
      " 0.         0.07732562 0.         0.         0.         0.\n",
      " 0.         0.         0.         0.         0.         0.\n",
      " 0.         0.         0.         0.         0.         0.\n",
      " 0.         0.         0.         0.         0.         0.\n",
      " 0.         0.         0.         0.         0.         0.\n",
      " 0.         0.         0.         0.         0.         0.\n",
      " 0.         0.         0.         0.         0.         0.\n",
      " 0.         0.         0.         0.         0.         0.\n",
      " 0.         0.         0.         0.         0.         0.\n",
      " 0.         0.         0.         0.         0.         0.\n",
      " 0.         0.         0.         0.         0.         0.\n",
      " 0.         0.         0.         0.         0.         0.\n",
      " 0.         0.         0.         0.         0.         0.\n",
      " 0.         0.         0.         0.         0.         0.\n",
      " 0.         0.         0.         0.         0.         0.\n",
      " 0.         0.         0.         0.         0.         0.\n",
      " 0.         0.         0.         0.         0.         0.\n",
      " 0.         0.         0.         0.         0.         0.\n",
      " 0.         0.         0.         0.         0.         0.\n",
      " 0.         0.         0.         0.         0.         0.\n",
      " 0.         0.         0.         0.         0.         0.\n",
      " 0.         0.         0.         0.         0.         0.\n",
      " 0.         0.         0.         0.         0.         0.\n",
      " 0.         0.         0.         0.         0.         0.\n",
      " 0.         0.         0.         0.         0.         0.\n",
      " 0.         0.         0.         0.         0.         0.\n",
      " 0.         0.         0.         0.         0.         0.\n",
      " 0.         0.         0.         0.         0.         0.\n",
      " 0.         0.         0.         0.         0.         0.\n",
      " 0.         0.         0.         0.         0.         0.\n",
      " 0.         0.         0.         0.         0.         0.\n",
      " 0.         0.         0.         0.         0.         0.\n",
      " 0.         0.         0.         0.         0.         0.\n",
      " 0.         0.         0.         0.         0.         0.\n",
      " 0.         0.         0.         0.         0.         0.\n",
      " 0.         0.         0.         0.         0.         0.\n",
      " 0.         0.         0.         0.         0.         0.\n",
      " 0.         0.         0.         0.         0.         0.\n",
      " 0.         0.         0.         0.         0.         0.\n",
      " 0.         0.         0.         0.         0.         0.\n",
      " 0.         0.         0.         0.         0.         0.\n",
      " 0.         0.         0.         0.         0.         0.\n",
      " 0.         0.         0.         0.         0.         0.\n",
      " 0.         0.         0.         0.         0.         0.\n",
      " 0.         0.         0.         0.         0.         0.\n",
      " 0.         0.         0.         0.         0.         0.\n",
      " 0.         0.         0.         0.         0.         0.\n",
      " 0.         0.         0.         0.         0.         0.\n",
      " 0.         0.         0.         0.         0.         0.\n",
      " 0.         0.         0.         0.         0.         0.\n",
      " 0.         0.         0.         0.         0.         0.\n",
      " 0.         0.         0.         0.         0.         0.\n",
      " 0.         0.         0.         0.         0.         0.\n",
      " 0.         0.         0.         0.         0.         0.\n",
      " 0.         0.         0.         0.         0.         0.\n",
      " 0.         0.         0.         0.         0.         0.89962895\n",
      " 0.         0.         0.         0.         0.         0.\n",
      " 0.         0.         0.         0.         0.         0.\n",
      " 0.         0.         0.         0.         0.         0.\n",
      " 0.         0.         0.         0.         0.         0.\n",
      " 0.         0.         0.         0.         0.         0.\n",
      " 0.         0.         0.         0.         0.         0.\n",
      " 0.         0.         0.         0.         0.         0.\n",
      " 0.         0.         0.         0.         0.         0.\n",
      " 0.         0.         0.         0.         0.         0.\n",
      " 0.         0.         0.         0.         0.         0.\n",
      " 0.         0.         0.         0.         0.         0.03962905\n",
      " 0.         0.         0.         0.         0.         0.\n",
      " 0.12659654 0.         0.         0.         0.         0.\n",
      " 0.         0.         0.         0.         0.         0.\n",
      " 0.         0.         0.         0.         0.         0.\n",
      " 0.         0.         0.         0.         0.         0.\n",
      " 0.         0.         0.         0.         0.         0.\n",
      " 0.29953082 0.         0.         0.         0.         0.\n",
      " 0.         0.         0.         0.         0.         0.\n",
      " 0.         0.         0.         0.         0.         0.\n",
      " 0.         0.         0.         0.         0.         0.\n",
      " 0.         0.         0.         0.         0.         0.\n",
      " 0.90565198 0.         0.         0.         0.         0.\n",
      " 0.         0.         0.         0.         0.         0.\n",
      " 0.         0.         0.         0.         0.         0.\n",
      " 0.         0.         0.         0.         0.         0.\n",
      " 0.         0.         0.         0.         0.         0.\n",
      " 0.         0.         0.         0.         0.00891948 0.\n",
      " 0.         0.         0.         0.         0.         0.\n",
      " 0.         0.         0.         0.         0.         0.\n",
      " 0.         0.         0.         0.         0.         0.\n",
      " 0.03489749 0.         0.         0.         0.         0.\n",
      " 0.         0.         0.18322642 0.         0.         0.\n",
      " 0.         0.         0.         0.         0.         0.\n",
      " 0.         0.         0.         0.         0.         0.\n",
      " 0.         0.         0.         0.         0.         0.\n",
      " 0.         0.         0.         0.         0.         0.\n",
      " 0.         0.         0.         0.         0.51883264 0.\n",
      " 0.         0.         0.         0.         0.         0.\n",
      " 0.         0.         0.         0.         0.         0.\n",
      " 0.         0.         0.         0.         0.         0.\n",
      " 0.         0.         0.         0.         0.         0.\n",
      " 0.         0.         0.         0.         0.         0.\n",
      " 0.         0.         0.         0.         0.         0.\n",
      " 0.         0.         0.         0.         0.         0.\n",
      " 0.         0.         0.         0.         0.         0.\n",
      " 0.         0.         0.         0.         0.         0.\n",
      " 0.         0.         0.         0.         0.         0.\n",
      " 0.         0.         0.         0.         0.         0.\n",
      " 0.         0.         0.         0.         0.         0.\n",
      " 0.         0.         0.         0.         0.         0.\n",
      " 0.         0.         0.         0.         0.         0.\n",
      " 0.         0.         0.         0.         0.         0.\n",
      " 0.         0.         0.         0.         0.         0.\n",
      " 0.         0.         0.         0.         0.         0.\n",
      " 0.         0.         0.         0.         0.         0.\n",
      " 0.         0.         0.         0.         0.         0.\n",
      " 0.         0.         0.         0.         0.05642601 0.\n",
      " 0.         0.         0.67492059 0.         0.         0.\n",
      " 0.         0.         0.         0.         0.         0.\n",
      " 0.         0.         0.         0.         0.         0.\n",
      " 0.         0.17762675 0.         0.         0.         0.\n",
      " 0.         0.         0.         0.         0.         0.\n",
      " 0.         0.         0.         0.         0.         0.\n",
      " 0.         0.         0.         0.         0.         0.\n",
      " 0.         0.         0.         0.         0.         0.\n",
      " 0.         0.         0.         0.         0.         0.\n",
      " 0.         0.         0.         0.         0.         0.\n",
      " 0.         0.         0.         0.         0.         0.\n",
      " 0.         0.         0.         0.         0.         0.\n",
      " 0.         0.         0.         0.         0.         0.\n",
      " 0.         0.         0.         0.         0.         0.\n",
      " 0.         0.         0.         0.         0.         0.\n",
      " 0.         0.         0.         0.         0.         0.\n",
      " 0.         0.         0.         0.         0.         0.\n",
      " 0.         0.         0.         0.         0.         0.\n",
      " 0.         0.         0.         0.         0.         0.\n",
      " 0.         0.         0.         0.         0.         0.\n",
      " 0.         0.         0.         0.         0.         0.\n",
      " 0.         0.         0.         0.         0.         0.\n",
      " 0.         0.         0.         0.         0.         0.\n",
      " 0.         0.         0.         0.         0.         0.\n",
      " 0.         0.         0.         0.         0.         0.\n",
      " 0.         0.         0.         0.         0.         0.\n"
     ]
    },
    {
     "name": "stdout",
     "output_type": "stream",
     "text": [
      " 0.         0.         0.         0.        ]\n"
     ]
    }
   ],
   "source": [
    "x, conv = prox_alg(f, f_grad, g_prox, x0, num_iter, fix_lam=1e-3)\n",
    "print(\"Number nonzeros in x* = {}\".format(np.sum(x != 0)))\n",
    "print(\"f* = {}\".format(f(x) + gamma * np.linalg.norm(x, 1)))\n",
    "x_acc, conv_acc = prox_alg(f, f_grad, g_prox, x0, num_iter, \n",
    "                           fix_lam=1e-3, accel=True)\n",
    "print(\"Number nonzeros in x* = {}\".format(np.sum(x_acc != 0)))\n",
    "print(\"f* = {}\".format(f(x_acc) + gamma * np.linalg.norm(x_acc, 1)))\n",
    "import liboptpy.unconstr_solvers.fo as fo\n",
    "complete_f = lambda x: f(x) + gamma * np.linalg.norm(x, 1)\n",
    "subgrad_f = lambda x: f_grad(x) + gamma * np.sign(x)\n",
    "subgrad_method = fo.SubgradientMethod(complete_f, subgrad_f, ss.ConstantStepSize(1e-3))\n",
    "x_subgrad = subgrad_method.solve(max_iter=num_iter, x0=x0)\n",
    "\n",
    "print(\"Number nonzeros in x* = {}\".format(np.sum(x_subgrad != 0)))\n",
    "print(\"f* = {}\".format(f(x_subgrad) + gamma * np.linalg.norm(x_subgrad, 1)))\n",
    "print(x_subgrad, x_acc)"
   ]
  },
  {
   "cell_type": "code",
   "execution_count": 22,
   "metadata": {
    "slideshow": {
     "slide_type": "slide"
    }
   },
   "outputs": [
    {
     "data": {
      "image/png": "[encoded data removed]",
      "text/plain": [
       "<Figure size 720x576 with 1 Axes>"
      ]
     },
     "metadata": {},
     "output_type": "display_data"
    }
   ],
   "source": [
    "plt.figure(figsize=(10, 8))\n",
    "fontsize=25\n",
    "plt.plot([f(x) + gamma * np.linalg.norm(x, 1) for x in conv], label=\"ISTA\")\n",
    "plt.plot([f(x) + gamma * np.linalg.norm(x, 1) for x in conv_acc], label=\"FISTA\")\n",
    "plt.plot([f(x) + gamma * np.linalg.norm(x, 1) for x in subgrad_method.get_convergence()], label=\"Subgrad\")\n",
    "plt.legend(fontsize=fontsize)\n",
    "plt.xlabel(r\"Number of iterations, $k$\", fontsize=fontsize)\n",
    "plt.ylabel(r\"Lasso objective, $h(x_k) + g(x_k)$\", fontsize=fontsize)\n",
    "plt.xticks(fontsize=fontsize)\n",
    "_ = plt.yticks(fontsize=fontsize)\n",
    "plt.yscale(\"log\")"
   ]
  },
  {
   "cell_type": "markdown",
   "metadata": {
    "slideshow": {
     "slide_type": "slide"
    }
   },
   "source": [
    "## Proximal algorithms highlights\n",
    "\n",
    "- Very useful for composite objectives if one item is \"simple\"\n",
    "- Many regularizers admit cheap prox evaluations\n",
    "- Distributed optimization set up"
   ]
  },
  {
   "cell_type": "markdown",
   "metadata": {
    "slideshow": {
     "slide_type": "slide"
    }
   },
   "source": [
    "## References\n",
    "\n",
    "1. [Proximal algorithms](http://web.stanford.edu/~boyd/papers/pdf/prox_algs.pdf) and related [sources](http://web.stanford.edu/~boyd/papers/prox_algs.html) by N. Parikh and S. Boyd \n",
    "2. [Gradient-based algorithms with applications to signal recovery problems](http://www.math.tau.ac.il/~teboulle/papers/gradient_chapter.pdf) by A. Beck and M. Teboulle\n",
    "3. [Proximal Backpropagation](https://arxiv.org/abs/1706.04638) by T Frerix et al (ICLR 2018)\n",
    "4. [Stochastic Proximal Gradient Descent with Acceleration Techniques](https://papers.nips.cc/paper/5610-stochastic-proximal-gradient-descent-with-acceleration-techniques.pdf) by A. Nitanda (NIPS 2014)"
   ]
  }
 ],
 "metadata": {
  "celltoolbar": "Slideshow",
  "kernelspec": {
   "display_name": "Python 3 (cvxpy)",
   "language": "python",
   "name": "cvxpy"
  },
  "language_info": {
   "codemirror_mode": {
    "name": "ipython",
    "version": 3
   },
   "file_extension": ".py",
   "mimetype": "text/x-python",
   "name": "python",
   "nbconvert_exporter": "python",
   "pygments_lexer": "ipython3",
   "version": "3.6.8"
  }
 },
 "nbformat": 4,
 "nbformat_minor": 4
}
